{
  "nbformat": 4,
  "nbformat_minor": 0,
  "metadata": {
    "colab": {
      "provenance": [],
      "gpuType": "T4"
    },
    "kernelspec": {
      "name": "python3",
      "display_name": "Python 3"
    },
    "language_info": {
      "name": "python"
    },
    "widgets": {
      "application/vnd.jupyter.widget-state+json": {
        "fa9561c6856f4567a804080d2f6fc5ad": {
          "model_module": "@jupyter-widgets/controls",
          "model_name": "HBoxModel",
          "model_module_version": "1.5.0",
          "state": {
            "_dom_classes": [],
            "_model_module": "@jupyter-widgets/controls",
            "_model_module_version": "1.5.0",
            "_model_name": "HBoxModel",
            "_view_count": null,
            "_view_module": "@jupyter-widgets/controls",
            "_view_module_version": "1.5.0",
            "_view_name": "HBoxView",
            "box_style": "",
            "children": [
              "IPY_MODEL_a0848297a7024451b06bccfa10df8d51",
              "IPY_MODEL_22b63b152f664411b03022e36ba24c87",
              "IPY_MODEL_8a786ac73dbc44bfa7f33fa531e9bcc0"
            ],
            "layout": "IPY_MODEL_36d36efa3cd5478293d530d293c6ca8f"
          }
        },
        "a0848297a7024451b06bccfa10df8d51": {
          "model_module": "@jupyter-widgets/controls",
          "model_name": "HTMLModel",
          "model_module_version": "1.5.0",
          "state": {
            "_dom_classes": [],
            "_model_module": "@jupyter-widgets/controls",
            "_model_module_version": "1.5.0",
            "_model_name": "HTMLModel",
            "_view_count": null,
            "_view_module": "@jupyter-widgets/controls",
            "_view_module_version": "1.5.0",
            "_view_name": "HTMLView",
            "description": "",
            "description_tooltip": null,
            "layout": "IPY_MODEL_e86f13673fda437dbd13a71834888e14",
            "placeholder": "​",
            "style": "IPY_MODEL_119e4d8892a043ef952cf5231f6ec7cc",
            "value": "modules.json: 100%"
          }
        },
        "22b63b152f664411b03022e36ba24c87": {
          "model_module": "@jupyter-widgets/controls",
          "model_name": "FloatProgressModel",
          "model_module_version": "1.5.0",
          "state": {
            "_dom_classes": [],
            "_model_module": "@jupyter-widgets/controls",
            "_model_module_version": "1.5.0",
            "_model_name": "FloatProgressModel",
            "_view_count": null,
            "_view_module": "@jupyter-widgets/controls",
            "_view_module_version": "1.5.0",
            "_view_name": "ProgressView",
            "bar_style": "success",
            "description": "",
            "description_tooltip": null,
            "layout": "IPY_MODEL_986c14bcd6574265ae72df82cc24addb",
            "max": 349,
            "min": 0,
            "orientation": "horizontal",
            "style": "IPY_MODEL_6a08d07808a0473a82308e6ff200fe04",
            "value": 349
          }
        },
        "8a786ac73dbc44bfa7f33fa531e9bcc0": {
          "model_module": "@jupyter-widgets/controls",
          "model_name": "HTMLModel",
          "model_module_version": "1.5.0",
          "state": {
            "_dom_classes": [],
            "_model_module": "@jupyter-widgets/controls",
            "_model_module_version": "1.5.0",
            "_model_name": "HTMLModel",
            "_view_count": null,
            "_view_module": "@jupyter-widgets/controls",
            "_view_module_version": "1.5.0",
            "_view_name": "HTMLView",
            "description": "",
            "description_tooltip": null,
            "layout": "IPY_MODEL_d63c8389f92947b394fb2074d6eb91b8",
            "placeholder": "​",
            "style": "IPY_MODEL_370224713f4e4f8884b55b5370964450",
            "value": " 349/349 [00:00&lt;00:00, 26.0kB/s]"
          }
        },
        "36d36efa3cd5478293d530d293c6ca8f": {
          "model_module": "@jupyter-widgets/base",
          "model_name": "LayoutModel",
          "model_module_version": "1.2.0",
          "state": {
            "_model_module": "@jupyter-widgets/base",
            "_model_module_version": "1.2.0",
            "_model_name": "LayoutModel",
            "_view_count": null,
            "_view_module": "@jupyter-widgets/base",
            "_view_module_version": "1.2.0",
            "_view_name": "LayoutView",
            "align_content": null,
            "align_items": null,
            "align_self": null,
            "border": null,
            "bottom": null,
            "display": null,
            "flex": null,
            "flex_flow": null,
            "grid_area": null,
            "grid_auto_columns": null,
            "grid_auto_flow": null,
            "grid_auto_rows": null,
            "grid_column": null,
            "grid_gap": null,
            "grid_row": null,
            "grid_template_areas": null,
            "grid_template_columns": null,
            "grid_template_rows": null,
            "height": null,
            "justify_content": null,
            "justify_items": null,
            "left": null,
            "margin": null,
            "max_height": null,
            "max_width": null,
            "min_height": null,
            "min_width": null,
            "object_fit": null,
            "object_position": null,
            "order": null,
            "overflow": null,
            "overflow_x": null,
            "overflow_y": null,
            "padding": null,
            "right": null,
            "top": null,
            "visibility": null,
            "width": null
          }
        },
        "e86f13673fda437dbd13a71834888e14": {
          "model_module": "@jupyter-widgets/base",
          "model_name": "LayoutModel",
          "model_module_version": "1.2.0",
          "state": {
            "_model_module": "@jupyter-widgets/base",
            "_model_module_version": "1.2.0",
            "_model_name": "LayoutModel",
            "_view_count": null,
            "_view_module": "@jupyter-widgets/base",
            "_view_module_version": "1.2.0",
            "_view_name": "LayoutView",
            "align_content": null,
            "align_items": null,
            "align_self": null,
            "border": null,
            "bottom": null,
            "display": null,
            "flex": null,
            "flex_flow": null,
            "grid_area": null,
            "grid_auto_columns": null,
            "grid_auto_flow": null,
            "grid_auto_rows": null,
            "grid_column": null,
            "grid_gap": null,
            "grid_row": null,
            "grid_template_areas": null,
            "grid_template_columns": null,
            "grid_template_rows": null,
            "height": null,
            "justify_content": null,
            "justify_items": null,
            "left": null,
            "margin": null,
            "max_height": null,
            "max_width": null,
            "min_height": null,
            "min_width": null,
            "object_fit": null,
            "object_position": null,
            "order": null,
            "overflow": null,
            "overflow_x": null,
            "overflow_y": null,
            "padding": null,
            "right": null,
            "top": null,
            "visibility": null,
            "width": null
          }
        },
        "119e4d8892a043ef952cf5231f6ec7cc": {
          "model_module": "@jupyter-widgets/controls",
          "model_name": "DescriptionStyleModel",
          "model_module_version": "1.5.0",
          "state": {
            "_model_module": "@jupyter-widgets/controls",
            "_model_module_version": "1.5.0",
            "_model_name": "DescriptionStyleModel",
            "_view_count": null,
            "_view_module": "@jupyter-widgets/base",
            "_view_module_version": "1.2.0",
            "_view_name": "StyleView",
            "description_width": ""
          }
        },
        "986c14bcd6574265ae72df82cc24addb": {
          "model_module": "@jupyter-widgets/base",
          "model_name": "LayoutModel",
          "model_module_version": "1.2.0",
          "state": {
            "_model_module": "@jupyter-widgets/base",
            "_model_module_version": "1.2.0",
            "_model_name": "LayoutModel",
            "_view_count": null,
            "_view_module": "@jupyter-widgets/base",
            "_view_module_version": "1.2.0",
            "_view_name": "LayoutView",
            "align_content": null,
            "align_items": null,
            "align_self": null,
            "border": null,
            "bottom": null,
            "display": null,
            "flex": null,
            "flex_flow": null,
            "grid_area": null,
            "grid_auto_columns": null,
            "grid_auto_flow": null,
            "grid_auto_rows": null,
            "grid_column": null,
            "grid_gap": null,
            "grid_row": null,
            "grid_template_areas": null,
            "grid_template_columns": null,
            "grid_template_rows": null,
            "height": null,
            "justify_content": null,
            "justify_items": null,
            "left": null,
            "margin": null,
            "max_height": null,
            "max_width": null,
            "min_height": null,
            "min_width": null,
            "object_fit": null,
            "object_position": null,
            "order": null,
            "overflow": null,
            "overflow_x": null,
            "overflow_y": null,
            "padding": null,
            "right": null,
            "top": null,
            "visibility": null,
            "width": null
          }
        },
        "6a08d07808a0473a82308e6ff200fe04": {
          "model_module": "@jupyter-widgets/controls",
          "model_name": "ProgressStyleModel",
          "model_module_version": "1.5.0",
          "state": {
            "_model_module": "@jupyter-widgets/controls",
            "_model_module_version": "1.5.0",
            "_model_name": "ProgressStyleModel",
            "_view_count": null,
            "_view_module": "@jupyter-widgets/base",
            "_view_module_version": "1.2.0",
            "_view_name": "StyleView",
            "bar_color": null,
            "description_width": ""
          }
        },
        "d63c8389f92947b394fb2074d6eb91b8": {
          "model_module": "@jupyter-widgets/base",
          "model_name": "LayoutModel",
          "model_module_version": "1.2.0",
          "state": {
            "_model_module": "@jupyter-widgets/base",
            "_model_module_version": "1.2.0",
            "_model_name": "LayoutModel",
            "_view_count": null,
            "_view_module": "@jupyter-widgets/base",
            "_view_module_version": "1.2.0",
            "_view_name": "LayoutView",
            "align_content": null,
            "align_items": null,
            "align_self": null,
            "border": null,
            "bottom": null,
            "display": null,
            "flex": null,
            "flex_flow": null,
            "grid_area": null,
            "grid_auto_columns": null,
            "grid_auto_flow": null,
            "grid_auto_rows": null,
            "grid_column": null,
            "grid_gap": null,
            "grid_row": null,
            "grid_template_areas": null,
            "grid_template_columns": null,
            "grid_template_rows": null,
            "height": null,
            "justify_content": null,
            "justify_items": null,
            "left": null,
            "margin": null,
            "max_height": null,
            "max_width": null,
            "min_height": null,
            "min_width": null,
            "object_fit": null,
            "object_position": null,
            "order": null,
            "overflow": null,
            "overflow_x": null,
            "overflow_y": null,
            "padding": null,
            "right": null,
            "top": null,
            "visibility": null,
            "width": null
          }
        },
        "370224713f4e4f8884b55b5370964450": {
          "model_module": "@jupyter-widgets/controls",
          "model_name": "DescriptionStyleModel",
          "model_module_version": "1.5.0",
          "state": {
            "_model_module": "@jupyter-widgets/controls",
            "_model_module_version": "1.5.0",
            "_model_name": "DescriptionStyleModel",
            "_view_count": null,
            "_view_module": "@jupyter-widgets/base",
            "_view_module_version": "1.2.0",
            "_view_name": "StyleView",
            "description_width": ""
          }
        },
        "61be855f76724e2ca016defbec886402": {
          "model_module": "@jupyter-widgets/controls",
          "model_name": "HBoxModel",
          "model_module_version": "1.5.0",
          "state": {
            "_dom_classes": [],
            "_model_module": "@jupyter-widgets/controls",
            "_model_module_version": "1.5.0",
            "_model_name": "HBoxModel",
            "_view_count": null,
            "_view_module": "@jupyter-widgets/controls",
            "_view_module_version": "1.5.0",
            "_view_name": "HBoxView",
            "box_style": "",
            "children": [
              "IPY_MODEL_ca45e7fd430347be93404e76845af3a3",
              "IPY_MODEL_02a51ae0e3f0432ab594863cfd6fc448",
              "IPY_MODEL_3362319b90d844269626f2468909ae48"
            ],
            "layout": "IPY_MODEL_51e43a38df63424f860d4ed7eb963125"
          }
        },
        "ca45e7fd430347be93404e76845af3a3": {
          "model_module": "@jupyter-widgets/controls",
          "model_name": "HTMLModel",
          "model_module_version": "1.5.0",
          "state": {
            "_dom_classes": [],
            "_model_module": "@jupyter-widgets/controls",
            "_model_module_version": "1.5.0",
            "_model_name": "HTMLModel",
            "_view_count": null,
            "_view_module": "@jupyter-widgets/controls",
            "_view_module_version": "1.5.0",
            "_view_name": "HTMLView",
            "description": "",
            "description_tooltip": null,
            "layout": "IPY_MODEL_60f079b0742b48cfa217f7e5949910dc",
            "placeholder": "​",
            "style": "IPY_MODEL_cc150950866b464a9d13bb8d8afc79f7",
            "value": "config_sentence_transformers.json: 100%"
          }
        },
        "02a51ae0e3f0432ab594863cfd6fc448": {
          "model_module": "@jupyter-widgets/controls",
          "model_name": "FloatProgressModel",
          "model_module_version": "1.5.0",
          "state": {
            "_dom_classes": [],
            "_model_module": "@jupyter-widgets/controls",
            "_model_module_version": "1.5.0",
            "_model_name": "FloatProgressModel",
            "_view_count": null,
            "_view_module": "@jupyter-widgets/controls",
            "_view_module_version": "1.5.0",
            "_view_name": "ProgressView",
            "bar_style": "success",
            "description": "",
            "description_tooltip": null,
            "layout": "IPY_MODEL_a219c096e5c94fd19849fcab2121e874",
            "max": 195,
            "min": 0,
            "orientation": "horizontal",
            "style": "IPY_MODEL_4e2ea3032f3140c4b7f981bc7f322c38",
            "value": 195
          }
        },
        "3362319b90d844269626f2468909ae48": {
          "model_module": "@jupyter-widgets/controls",
          "model_name": "HTMLModel",
          "model_module_version": "1.5.0",
          "state": {
            "_dom_classes": [],
            "_model_module": "@jupyter-widgets/controls",
            "_model_module_version": "1.5.0",
            "_model_name": "HTMLModel",
            "_view_count": null,
            "_view_module": "@jupyter-widgets/controls",
            "_view_module_version": "1.5.0",
            "_view_name": "HTMLView",
            "description": "",
            "description_tooltip": null,
            "layout": "IPY_MODEL_13aa9a31d2bf4c1cb4ccca6a8897ecb9",
            "placeholder": "​",
            "style": "IPY_MODEL_62ad69406aee4e8880b4cf35a21ed637",
            "value": " 195/195 [00:00&lt;00:00, 9.84kB/s]"
          }
        },
        "51e43a38df63424f860d4ed7eb963125": {
          "model_module": "@jupyter-widgets/base",
          "model_name": "LayoutModel",
          "model_module_version": "1.2.0",
          "state": {
            "_model_module": "@jupyter-widgets/base",
            "_model_module_version": "1.2.0",
            "_model_name": "LayoutModel",
            "_view_count": null,
            "_view_module": "@jupyter-widgets/base",
            "_view_module_version": "1.2.0",
            "_view_name": "LayoutView",
            "align_content": null,
            "align_items": null,
            "align_self": null,
            "border": null,
            "bottom": null,
            "display": null,
            "flex": null,
            "flex_flow": null,
            "grid_area": null,
            "grid_auto_columns": null,
            "grid_auto_flow": null,
            "grid_auto_rows": null,
            "grid_column": null,
            "grid_gap": null,
            "grid_row": null,
            "grid_template_areas": null,
            "grid_template_columns": null,
            "grid_template_rows": null,
            "height": null,
            "justify_content": null,
            "justify_items": null,
            "left": null,
            "margin": null,
            "max_height": null,
            "max_width": null,
            "min_height": null,
            "min_width": null,
            "object_fit": null,
            "object_position": null,
            "order": null,
            "overflow": null,
            "overflow_x": null,
            "overflow_y": null,
            "padding": null,
            "right": null,
            "top": null,
            "visibility": null,
            "width": null
          }
        },
        "60f079b0742b48cfa217f7e5949910dc": {
          "model_module": "@jupyter-widgets/base",
          "model_name": "LayoutModel",
          "model_module_version": "1.2.0",
          "state": {
            "_model_module": "@jupyter-widgets/base",
            "_model_module_version": "1.2.0",
            "_model_name": "LayoutModel",
            "_view_count": null,
            "_view_module": "@jupyter-widgets/base",
            "_view_module_version": "1.2.0",
            "_view_name": "LayoutView",
            "align_content": null,
            "align_items": null,
            "align_self": null,
            "border": null,
            "bottom": null,
            "display": null,
            "flex": null,
            "flex_flow": null,
            "grid_area": null,
            "grid_auto_columns": null,
            "grid_auto_flow": null,
            "grid_auto_rows": null,
            "grid_column": null,
            "grid_gap": null,
            "grid_row": null,
            "grid_template_areas": null,
            "grid_template_columns": null,
            "grid_template_rows": null,
            "height": null,
            "justify_content": null,
            "justify_items": null,
            "left": null,
            "margin": null,
            "max_height": null,
            "max_width": null,
            "min_height": null,
            "min_width": null,
            "object_fit": null,
            "object_position": null,
            "order": null,
            "overflow": null,
            "overflow_x": null,
            "overflow_y": null,
            "padding": null,
            "right": null,
            "top": null,
            "visibility": null,
            "width": null
          }
        },
        "cc150950866b464a9d13bb8d8afc79f7": {
          "model_module": "@jupyter-widgets/controls",
          "model_name": "DescriptionStyleModel",
          "model_module_version": "1.5.0",
          "state": {
            "_model_module": "@jupyter-widgets/controls",
            "_model_module_version": "1.5.0",
            "_model_name": "DescriptionStyleModel",
            "_view_count": null,
            "_view_module": "@jupyter-widgets/base",
            "_view_module_version": "1.2.0",
            "_view_name": "StyleView",
            "description_width": ""
          }
        },
        "a219c096e5c94fd19849fcab2121e874": {
          "model_module": "@jupyter-widgets/base",
          "model_name": "LayoutModel",
          "model_module_version": "1.2.0",
          "state": {
            "_model_module": "@jupyter-widgets/base",
            "_model_module_version": "1.2.0",
            "_model_name": "LayoutModel",
            "_view_count": null,
            "_view_module": "@jupyter-widgets/base",
            "_view_module_version": "1.2.0",
            "_view_name": "LayoutView",
            "align_content": null,
            "align_items": null,
            "align_self": null,
            "border": null,
            "bottom": null,
            "display": null,
            "flex": null,
            "flex_flow": null,
            "grid_area": null,
            "grid_auto_columns": null,
            "grid_auto_flow": null,
            "grid_auto_rows": null,
            "grid_column": null,
            "grid_gap": null,
            "grid_row": null,
            "grid_template_areas": null,
            "grid_template_columns": null,
            "grid_template_rows": null,
            "height": null,
            "justify_content": null,
            "justify_items": null,
            "left": null,
            "margin": null,
            "max_height": null,
            "max_width": null,
            "min_height": null,
            "min_width": null,
            "object_fit": null,
            "object_position": null,
            "order": null,
            "overflow": null,
            "overflow_x": null,
            "overflow_y": null,
            "padding": null,
            "right": null,
            "top": null,
            "visibility": null,
            "width": null
          }
        },
        "4e2ea3032f3140c4b7f981bc7f322c38": {
          "model_module": "@jupyter-widgets/controls",
          "model_name": "ProgressStyleModel",
          "model_module_version": "1.5.0",
          "state": {
            "_model_module": "@jupyter-widgets/controls",
            "_model_module_version": "1.5.0",
            "_model_name": "ProgressStyleModel",
            "_view_count": null,
            "_view_module": "@jupyter-widgets/base",
            "_view_module_version": "1.2.0",
            "_view_name": "StyleView",
            "bar_color": null,
            "description_width": ""
          }
        },
        "13aa9a31d2bf4c1cb4ccca6a8897ecb9": {
          "model_module": "@jupyter-widgets/base",
          "model_name": "LayoutModel",
          "model_module_version": "1.2.0",
          "state": {
            "_model_module": "@jupyter-widgets/base",
            "_model_module_version": "1.2.0",
            "_model_name": "LayoutModel",
            "_view_count": null,
            "_view_module": "@jupyter-widgets/base",
            "_view_module_version": "1.2.0",
            "_view_name": "LayoutView",
            "align_content": null,
            "align_items": null,
            "align_self": null,
            "border": null,
            "bottom": null,
            "display": null,
            "flex": null,
            "flex_flow": null,
            "grid_area": null,
            "grid_auto_columns": null,
            "grid_auto_flow": null,
            "grid_auto_rows": null,
            "grid_column": null,
            "grid_gap": null,
            "grid_row": null,
            "grid_template_areas": null,
            "grid_template_columns": null,
            "grid_template_rows": null,
            "height": null,
            "justify_content": null,
            "justify_items": null,
            "left": null,
            "margin": null,
            "max_height": null,
            "max_width": null,
            "min_height": null,
            "min_width": null,
            "object_fit": null,
            "object_position": null,
            "order": null,
            "overflow": null,
            "overflow_x": null,
            "overflow_y": null,
            "padding": null,
            "right": null,
            "top": null,
            "visibility": null,
            "width": null
          }
        },
        "62ad69406aee4e8880b4cf35a21ed637": {
          "model_module": "@jupyter-widgets/controls",
          "model_name": "DescriptionStyleModel",
          "model_module_version": "1.5.0",
          "state": {
            "_model_module": "@jupyter-widgets/controls",
            "_model_module_version": "1.5.0",
            "_model_name": "DescriptionStyleModel",
            "_view_count": null,
            "_view_module": "@jupyter-widgets/base",
            "_view_module_version": "1.2.0",
            "_view_name": "StyleView",
            "description_width": ""
          }
        },
        "75f3e062f5474dd48d9748f5d2100b09": {
          "model_module": "@jupyter-widgets/controls",
          "model_name": "HBoxModel",
          "model_module_version": "1.5.0",
          "state": {
            "_dom_classes": [],
            "_model_module": "@jupyter-widgets/controls",
            "_model_module_version": "1.5.0",
            "_model_name": "HBoxModel",
            "_view_count": null,
            "_view_module": "@jupyter-widgets/controls",
            "_view_module_version": "1.5.0",
            "_view_name": "HBoxView",
            "box_style": "",
            "children": [
              "IPY_MODEL_9ac851105a1f4217b732e0d0442dd44d",
              "IPY_MODEL_373dfd8f6df34ccbb60f14f3523d162e",
              "IPY_MODEL_225a5468bff3475cbe2f5c901e816c8c"
            ],
            "layout": "IPY_MODEL_f0039669210c4bc3888dd1404c89f840"
          }
        },
        "9ac851105a1f4217b732e0d0442dd44d": {
          "model_module": "@jupyter-widgets/controls",
          "model_name": "HTMLModel",
          "model_module_version": "1.5.0",
          "state": {
            "_dom_classes": [],
            "_model_module": "@jupyter-widgets/controls",
            "_model_module_version": "1.5.0",
            "_model_name": "HTMLModel",
            "_view_count": null,
            "_view_module": "@jupyter-widgets/controls",
            "_view_module_version": "1.5.0",
            "_view_name": "HTMLView",
            "description": "",
            "description_tooltip": null,
            "layout": "IPY_MODEL_158848f05e184485966931f872f0f5d9",
            "placeholder": "​",
            "style": "IPY_MODEL_8d8a2b85e6bd4e66abb4fc1a15c8ad5d",
            "value": "README.md: 100%"
          }
        },
        "373dfd8f6df34ccbb60f14f3523d162e": {
          "model_module": "@jupyter-widgets/controls",
          "model_name": "FloatProgressModel",
          "model_module_version": "1.5.0",
          "state": {
            "_dom_classes": [],
            "_model_module": "@jupyter-widgets/controls",
            "_model_module_version": "1.5.0",
            "_model_name": "FloatProgressModel",
            "_view_count": null,
            "_view_module": "@jupyter-widgets/controls",
            "_view_module_version": "1.5.0",
            "_view_name": "ProgressView",
            "bar_style": "success",
            "description": "",
            "description_tooltip": null,
            "layout": "IPY_MODEL_0fea9258944b4433928e6ac4e4aae902",
            "max": 14896,
            "min": 0,
            "orientation": "horizontal",
            "style": "IPY_MODEL_5303dc0158014cd99caea6e49e3cda55",
            "value": 14896
          }
        },
        "225a5468bff3475cbe2f5c901e816c8c": {
          "model_module": "@jupyter-widgets/controls",
          "model_name": "HTMLModel",
          "model_module_version": "1.5.0",
          "state": {
            "_dom_classes": [],
            "_model_module": "@jupyter-widgets/controls",
            "_model_module_version": "1.5.0",
            "_model_name": "HTMLModel",
            "_view_count": null,
            "_view_module": "@jupyter-widgets/controls",
            "_view_module_version": "1.5.0",
            "_view_name": "HTMLView",
            "description": "",
            "description_tooltip": null,
            "layout": "IPY_MODEL_957e5c9759c44dd08cc387490b9a5b35",
            "placeholder": "​",
            "style": "IPY_MODEL_88041c0fe5744c13af2c840bd95b4642",
            "value": " 14.9k/14.9k [00:00&lt;00:00, 1.10MB/s]"
          }
        },
        "f0039669210c4bc3888dd1404c89f840": {
          "model_module": "@jupyter-widgets/base",
          "model_name": "LayoutModel",
          "model_module_version": "1.2.0",
          "state": {
            "_model_module": "@jupyter-widgets/base",
            "_model_module_version": "1.2.0",
            "_model_name": "LayoutModel",
            "_view_count": null,
            "_view_module": "@jupyter-widgets/base",
            "_view_module_version": "1.2.0",
            "_view_name": "LayoutView",
            "align_content": null,
            "align_items": null,
            "align_self": null,
            "border": null,
            "bottom": null,
            "display": null,
            "flex": null,
            "flex_flow": null,
            "grid_area": null,
            "grid_auto_columns": null,
            "grid_auto_flow": null,
            "grid_auto_rows": null,
            "grid_column": null,
            "grid_gap": null,
            "grid_row": null,
            "grid_template_areas": null,
            "grid_template_columns": null,
            "grid_template_rows": null,
            "height": null,
            "justify_content": null,
            "justify_items": null,
            "left": null,
            "margin": null,
            "max_height": null,
            "max_width": null,
            "min_height": null,
            "min_width": null,
            "object_fit": null,
            "object_position": null,
            "order": null,
            "overflow": null,
            "overflow_x": null,
            "overflow_y": null,
            "padding": null,
            "right": null,
            "top": null,
            "visibility": null,
            "width": null
          }
        },
        "158848f05e184485966931f872f0f5d9": {
          "model_module": "@jupyter-widgets/base",
          "model_name": "LayoutModel",
          "model_module_version": "1.2.0",
          "state": {
            "_model_module": "@jupyter-widgets/base",
            "_model_module_version": "1.2.0",
            "_model_name": "LayoutModel",
            "_view_count": null,
            "_view_module": "@jupyter-widgets/base",
            "_view_module_version": "1.2.0",
            "_view_name": "LayoutView",
            "align_content": null,
            "align_items": null,
            "align_self": null,
            "border": null,
            "bottom": null,
            "display": null,
            "flex": null,
            "flex_flow": null,
            "grid_area": null,
            "grid_auto_columns": null,
            "grid_auto_flow": null,
            "grid_auto_rows": null,
            "grid_column": null,
            "grid_gap": null,
            "grid_row": null,
            "grid_template_areas": null,
            "grid_template_columns": null,
            "grid_template_rows": null,
            "height": null,
            "justify_content": null,
            "justify_items": null,
            "left": null,
            "margin": null,
            "max_height": null,
            "max_width": null,
            "min_height": null,
            "min_width": null,
            "object_fit": null,
            "object_position": null,
            "order": null,
            "overflow": null,
            "overflow_x": null,
            "overflow_y": null,
            "padding": null,
            "right": null,
            "top": null,
            "visibility": null,
            "width": null
          }
        },
        "8d8a2b85e6bd4e66abb4fc1a15c8ad5d": {
          "model_module": "@jupyter-widgets/controls",
          "model_name": "DescriptionStyleModel",
          "model_module_version": "1.5.0",
          "state": {
            "_model_module": "@jupyter-widgets/controls",
            "_model_module_version": "1.5.0",
            "_model_name": "DescriptionStyleModel",
            "_view_count": null,
            "_view_module": "@jupyter-widgets/base",
            "_view_module_version": "1.2.0",
            "_view_name": "StyleView",
            "description_width": ""
          }
        },
        "0fea9258944b4433928e6ac4e4aae902": {
          "model_module": "@jupyter-widgets/base",
          "model_name": "LayoutModel",
          "model_module_version": "1.2.0",
          "state": {
            "_model_module": "@jupyter-widgets/base",
            "_model_module_version": "1.2.0",
            "_model_name": "LayoutModel",
            "_view_count": null,
            "_view_module": "@jupyter-widgets/base",
            "_view_module_version": "1.2.0",
            "_view_name": "LayoutView",
            "align_content": null,
            "align_items": null,
            "align_self": null,
            "border": null,
            "bottom": null,
            "display": null,
            "flex": null,
            "flex_flow": null,
            "grid_area": null,
            "grid_auto_columns": null,
            "grid_auto_flow": null,
            "grid_auto_rows": null,
            "grid_column": null,
            "grid_gap": null,
            "grid_row": null,
            "grid_template_areas": null,
            "grid_template_columns": null,
            "grid_template_rows": null,
            "height": null,
            "justify_content": null,
            "justify_items": null,
            "left": null,
            "margin": null,
            "max_height": null,
            "max_width": null,
            "min_height": null,
            "min_width": null,
            "object_fit": null,
            "object_position": null,
            "order": null,
            "overflow": null,
            "overflow_x": null,
            "overflow_y": null,
            "padding": null,
            "right": null,
            "top": null,
            "visibility": null,
            "width": null
          }
        },
        "5303dc0158014cd99caea6e49e3cda55": {
          "model_module": "@jupyter-widgets/controls",
          "model_name": "ProgressStyleModel",
          "model_module_version": "1.5.0",
          "state": {
            "_model_module": "@jupyter-widgets/controls",
            "_model_module_version": "1.5.0",
            "_model_name": "ProgressStyleModel",
            "_view_count": null,
            "_view_module": "@jupyter-widgets/base",
            "_view_module_version": "1.2.0",
            "_view_name": "StyleView",
            "bar_color": null,
            "description_width": ""
          }
        },
        "957e5c9759c44dd08cc387490b9a5b35": {
          "model_module": "@jupyter-widgets/base",
          "model_name": "LayoutModel",
          "model_module_version": "1.2.0",
          "state": {
            "_model_module": "@jupyter-widgets/base",
            "_model_module_version": "1.2.0",
            "_model_name": "LayoutModel",
            "_view_count": null,
            "_view_module": "@jupyter-widgets/base",
            "_view_module_version": "1.2.0",
            "_view_name": "LayoutView",
            "align_content": null,
            "align_items": null,
            "align_self": null,
            "border": null,
            "bottom": null,
            "display": null,
            "flex": null,
            "flex_flow": null,
            "grid_area": null,
            "grid_auto_columns": null,
            "grid_auto_flow": null,
            "grid_auto_rows": null,
            "grid_column": null,
            "grid_gap": null,
            "grid_row": null,
            "grid_template_areas": null,
            "grid_template_columns": null,
            "grid_template_rows": null,
            "height": null,
            "justify_content": null,
            "justify_items": null,
            "left": null,
            "margin": null,
            "max_height": null,
            "max_width": null,
            "min_height": null,
            "min_width": null,
            "object_fit": null,
            "object_position": null,
            "order": null,
            "overflow": null,
            "overflow_x": null,
            "overflow_y": null,
            "padding": null,
            "right": null,
            "top": null,
            "visibility": null,
            "width": null
          }
        },
        "88041c0fe5744c13af2c840bd95b4642": {
          "model_module": "@jupyter-widgets/controls",
          "model_name": "DescriptionStyleModel",
          "model_module_version": "1.5.0",
          "state": {
            "_model_module": "@jupyter-widgets/controls",
            "_model_module_version": "1.5.0",
            "_model_name": "DescriptionStyleModel",
            "_view_count": null,
            "_view_module": "@jupyter-widgets/base",
            "_view_module_version": "1.2.0",
            "_view_name": "StyleView",
            "description_width": ""
          }
        },
        "4aadc6ee890a4c0caf95887da17e3e69": {
          "model_module": "@jupyter-widgets/controls",
          "model_name": "HBoxModel",
          "model_module_version": "1.5.0",
          "state": {
            "_dom_classes": [],
            "_model_module": "@jupyter-widgets/controls",
            "_model_module_version": "1.5.0",
            "_model_name": "HBoxModel",
            "_view_count": null,
            "_view_module": "@jupyter-widgets/controls",
            "_view_module_version": "1.5.0",
            "_view_name": "HBoxView",
            "box_style": "",
            "children": [
              "IPY_MODEL_b11ba1bfcf324de496ab5193994027ae",
              "IPY_MODEL_188cca233b6b46be833c05cd19af9946",
              "IPY_MODEL_cbabaa7926cf4855830d0408fda30a0a"
            ],
            "layout": "IPY_MODEL_80117e534ec649a493a566344b15d1d1"
          }
        },
        "b11ba1bfcf324de496ab5193994027ae": {
          "model_module": "@jupyter-widgets/controls",
          "model_name": "HTMLModel",
          "model_module_version": "1.5.0",
          "state": {
            "_dom_classes": [],
            "_model_module": "@jupyter-widgets/controls",
            "_model_module_version": "1.5.0",
            "_model_name": "HTMLModel",
            "_view_count": null,
            "_view_module": "@jupyter-widgets/controls",
            "_view_module_version": "1.5.0",
            "_view_name": "HTMLView",
            "description": "",
            "description_tooltip": null,
            "layout": "IPY_MODEL_b6bfb8e3066248d28bcb1f99f90667cd",
            "placeholder": "​",
            "style": "IPY_MODEL_3947d21e63414ce5ad2290527a931f02",
            "value": "sentence_bert_config.json: 100%"
          }
        },
        "188cca233b6b46be833c05cd19af9946": {
          "model_module": "@jupyter-widgets/controls",
          "model_name": "FloatProgressModel",
          "model_module_version": "1.5.0",
          "state": {
            "_dom_classes": [],
            "_model_module": "@jupyter-widgets/controls",
            "_model_module_version": "1.5.0",
            "_model_name": "FloatProgressModel",
            "_view_count": null,
            "_view_module": "@jupyter-widgets/controls",
            "_view_module_version": "1.5.0",
            "_view_name": "ProgressView",
            "bar_style": "success",
            "description": "",
            "description_tooltip": null,
            "layout": "IPY_MODEL_f50d555ed33e44acbf9733970a04d63d",
            "max": 53,
            "min": 0,
            "orientation": "horizontal",
            "style": "IPY_MODEL_7b16de1f6b41430aaabb7fbf42544602",
            "value": 53
          }
        },
        "cbabaa7926cf4855830d0408fda30a0a": {
          "model_module": "@jupyter-widgets/controls",
          "model_name": "HTMLModel",
          "model_module_version": "1.5.0",
          "state": {
            "_dom_classes": [],
            "_model_module": "@jupyter-widgets/controls",
            "_model_module_version": "1.5.0",
            "_model_name": "HTMLModel",
            "_view_count": null,
            "_view_module": "@jupyter-widgets/controls",
            "_view_module_version": "1.5.0",
            "_view_name": "HTMLView",
            "description": "",
            "description_tooltip": null,
            "layout": "IPY_MODEL_59980732a3e84a3f875a4a08b4b626a9",
            "placeholder": "​",
            "style": "IPY_MODEL_8ed1726d2de34a78b257dd81444a319b",
            "value": " 53.0/53.0 [00:00&lt;00:00, 2.85kB/s]"
          }
        },
        "80117e534ec649a493a566344b15d1d1": {
          "model_module": "@jupyter-widgets/base",
          "model_name": "LayoutModel",
          "model_module_version": "1.2.0",
          "state": {
            "_model_module": "@jupyter-widgets/base",
            "_model_module_version": "1.2.0",
            "_model_name": "LayoutModel",
            "_view_count": null,
            "_view_module": "@jupyter-widgets/base",
            "_view_module_version": "1.2.0",
            "_view_name": "LayoutView",
            "align_content": null,
            "align_items": null,
            "align_self": null,
            "border": null,
            "bottom": null,
            "display": null,
            "flex": null,
            "flex_flow": null,
            "grid_area": null,
            "grid_auto_columns": null,
            "grid_auto_flow": null,
            "grid_auto_rows": null,
            "grid_column": null,
            "grid_gap": null,
            "grid_row": null,
            "grid_template_areas": null,
            "grid_template_columns": null,
            "grid_template_rows": null,
            "height": null,
            "justify_content": null,
            "justify_items": null,
            "left": null,
            "margin": null,
            "max_height": null,
            "max_width": null,
            "min_height": null,
            "min_width": null,
            "object_fit": null,
            "object_position": null,
            "order": null,
            "overflow": null,
            "overflow_x": null,
            "overflow_y": null,
            "padding": null,
            "right": null,
            "top": null,
            "visibility": null,
            "width": null
          }
        },
        "b6bfb8e3066248d28bcb1f99f90667cd": {
          "model_module": "@jupyter-widgets/base",
          "model_name": "LayoutModel",
          "model_module_version": "1.2.0",
          "state": {
            "_model_module": "@jupyter-widgets/base",
            "_model_module_version": "1.2.0",
            "_model_name": "LayoutModel",
            "_view_count": null,
            "_view_module": "@jupyter-widgets/base",
            "_view_module_version": "1.2.0",
            "_view_name": "LayoutView",
            "align_content": null,
            "align_items": null,
            "align_self": null,
            "border": null,
            "bottom": null,
            "display": null,
            "flex": null,
            "flex_flow": null,
            "grid_area": null,
            "grid_auto_columns": null,
            "grid_auto_flow": null,
            "grid_auto_rows": null,
            "grid_column": null,
            "grid_gap": null,
            "grid_row": null,
            "grid_template_areas": null,
            "grid_template_columns": null,
            "grid_template_rows": null,
            "height": null,
            "justify_content": null,
            "justify_items": null,
            "left": null,
            "margin": null,
            "max_height": null,
            "max_width": null,
            "min_height": null,
            "min_width": null,
            "object_fit": null,
            "object_position": null,
            "order": null,
            "overflow": null,
            "overflow_x": null,
            "overflow_y": null,
            "padding": null,
            "right": null,
            "top": null,
            "visibility": null,
            "width": null
          }
        },
        "3947d21e63414ce5ad2290527a931f02": {
          "model_module": "@jupyter-widgets/controls",
          "model_name": "DescriptionStyleModel",
          "model_module_version": "1.5.0",
          "state": {
            "_model_module": "@jupyter-widgets/controls",
            "_model_module_version": "1.5.0",
            "_model_name": "DescriptionStyleModel",
            "_view_count": null,
            "_view_module": "@jupyter-widgets/base",
            "_view_module_version": "1.2.0",
            "_view_name": "StyleView",
            "description_width": ""
          }
        },
        "f50d555ed33e44acbf9733970a04d63d": {
          "model_module": "@jupyter-widgets/base",
          "model_name": "LayoutModel",
          "model_module_version": "1.2.0",
          "state": {
            "_model_module": "@jupyter-widgets/base",
            "_model_module_version": "1.2.0",
            "_model_name": "LayoutModel",
            "_view_count": null,
            "_view_module": "@jupyter-widgets/base",
            "_view_module_version": "1.2.0",
            "_view_name": "LayoutView",
            "align_content": null,
            "align_items": null,
            "align_self": null,
            "border": null,
            "bottom": null,
            "display": null,
            "flex": null,
            "flex_flow": null,
            "grid_area": null,
            "grid_auto_columns": null,
            "grid_auto_flow": null,
            "grid_auto_rows": null,
            "grid_column": null,
            "grid_gap": null,
            "grid_row": null,
            "grid_template_areas": null,
            "grid_template_columns": null,
            "grid_template_rows": null,
            "height": null,
            "justify_content": null,
            "justify_items": null,
            "left": null,
            "margin": null,
            "max_height": null,
            "max_width": null,
            "min_height": null,
            "min_width": null,
            "object_fit": null,
            "object_position": null,
            "order": null,
            "overflow": null,
            "overflow_x": null,
            "overflow_y": null,
            "padding": null,
            "right": null,
            "top": null,
            "visibility": null,
            "width": null
          }
        },
        "7b16de1f6b41430aaabb7fbf42544602": {
          "model_module": "@jupyter-widgets/controls",
          "model_name": "ProgressStyleModel",
          "model_module_version": "1.5.0",
          "state": {
            "_model_module": "@jupyter-widgets/controls",
            "_model_module_version": "1.5.0",
            "_model_name": "ProgressStyleModel",
            "_view_count": null,
            "_view_module": "@jupyter-widgets/base",
            "_view_module_version": "1.2.0",
            "_view_name": "StyleView",
            "bar_color": null,
            "description_width": ""
          }
        },
        "59980732a3e84a3f875a4a08b4b626a9": {
          "model_module": "@jupyter-widgets/base",
          "model_name": "LayoutModel",
          "model_module_version": "1.2.0",
          "state": {
            "_model_module": "@jupyter-widgets/base",
            "_model_module_version": "1.2.0",
            "_model_name": "LayoutModel",
            "_view_count": null,
            "_view_module": "@jupyter-widgets/base",
            "_view_module_version": "1.2.0",
            "_view_name": "LayoutView",
            "align_content": null,
            "align_items": null,
            "align_self": null,
            "border": null,
            "bottom": null,
            "display": null,
            "flex": null,
            "flex_flow": null,
            "grid_area": null,
            "grid_auto_columns": null,
            "grid_auto_flow": null,
            "grid_auto_rows": null,
            "grid_column": null,
            "grid_gap": null,
            "grid_row": null,
            "grid_template_areas": null,
            "grid_template_columns": null,
            "grid_template_rows": null,
            "height": null,
            "justify_content": null,
            "justify_items": null,
            "left": null,
            "margin": null,
            "max_height": null,
            "max_width": null,
            "min_height": null,
            "min_width": null,
            "object_fit": null,
            "object_position": null,
            "order": null,
            "overflow": null,
            "overflow_x": null,
            "overflow_y": null,
            "padding": null,
            "right": null,
            "top": null,
            "visibility": null,
            "width": null
          }
        },
        "8ed1726d2de34a78b257dd81444a319b": {
          "model_module": "@jupyter-widgets/controls",
          "model_name": "DescriptionStyleModel",
          "model_module_version": "1.5.0",
          "state": {
            "_model_module": "@jupyter-widgets/controls",
            "_model_module_version": "1.5.0",
            "_model_name": "DescriptionStyleModel",
            "_view_count": null,
            "_view_module": "@jupyter-widgets/base",
            "_view_module_version": "1.2.0",
            "_view_name": "StyleView",
            "description_width": ""
          }
        },
        "93d6c6a4eba3452a8a2e9c6c5e68fa30": {
          "model_module": "@jupyter-widgets/controls",
          "model_name": "HBoxModel",
          "model_module_version": "1.5.0",
          "state": {
            "_dom_classes": [],
            "_model_module": "@jupyter-widgets/controls",
            "_model_module_version": "1.5.0",
            "_model_name": "HBoxModel",
            "_view_count": null,
            "_view_module": "@jupyter-widgets/controls",
            "_view_module_version": "1.5.0",
            "_view_name": "HBoxView",
            "box_style": "",
            "children": [
              "IPY_MODEL_d12466f3200347b4b843ed52e8c0dc28",
              "IPY_MODEL_ee26b68ccffe4ffc968f29787a466f1d",
              "IPY_MODEL_9cd655165e464c638ad26e24d6071e7e"
            ],
            "layout": "IPY_MODEL_9bd7b9353606429d83a379d3835f7e81"
          }
        },
        "d12466f3200347b4b843ed52e8c0dc28": {
          "model_module": "@jupyter-widgets/controls",
          "model_name": "HTMLModel",
          "model_module_version": "1.5.0",
          "state": {
            "_dom_classes": [],
            "_model_module": "@jupyter-widgets/controls",
            "_model_module_version": "1.5.0",
            "_model_name": "HTMLModel",
            "_view_count": null,
            "_view_module": "@jupyter-widgets/controls",
            "_view_module_version": "1.5.0",
            "_view_name": "HTMLView",
            "description": "",
            "description_tooltip": null,
            "layout": "IPY_MODEL_42ac7b89eb8a446bacbc057b223231f9",
            "placeholder": "​",
            "style": "IPY_MODEL_693c1470e4744293b0796693591a72be",
            "value": "config.json: 100%"
          }
        },
        "ee26b68ccffe4ffc968f29787a466f1d": {
          "model_module": "@jupyter-widgets/controls",
          "model_name": "FloatProgressModel",
          "model_module_version": "1.5.0",
          "state": {
            "_dom_classes": [],
            "_model_module": "@jupyter-widgets/controls",
            "_model_module_version": "1.5.0",
            "_model_name": "FloatProgressModel",
            "_view_count": null,
            "_view_module": "@jupyter-widgets/controls",
            "_view_module_version": "1.5.0",
            "_view_name": "ProgressView",
            "bar_style": "success",
            "description": "",
            "description_tooltip": null,
            "layout": "IPY_MODEL_94f9241d477547ae99c20a2868210c6d",
            "max": 620,
            "min": 0,
            "orientation": "horizontal",
            "style": "IPY_MODEL_2e316c47f46b4122a213f144c5783197",
            "value": 620
          }
        },
        "9cd655165e464c638ad26e24d6071e7e": {
          "model_module": "@jupyter-widgets/controls",
          "model_name": "HTMLModel",
          "model_module_version": "1.5.0",
          "state": {
            "_dom_classes": [],
            "_model_module": "@jupyter-widgets/controls",
            "_model_module_version": "1.5.0",
            "_model_name": "HTMLModel",
            "_view_count": null,
            "_view_module": "@jupyter-widgets/controls",
            "_view_module_version": "1.5.0",
            "_view_name": "HTMLView",
            "description": "",
            "description_tooltip": null,
            "layout": "IPY_MODEL_1031c5acbbb44fdd9da1f4712c138d83",
            "placeholder": "​",
            "style": "IPY_MODEL_7cb8705e6e1c4f8dbdff497a323b872c",
            "value": " 620/620 [00:00&lt;00:00, 13.9kB/s]"
          }
        },
        "9bd7b9353606429d83a379d3835f7e81": {
          "model_module": "@jupyter-widgets/base",
          "model_name": "LayoutModel",
          "model_module_version": "1.2.0",
          "state": {
            "_model_module": "@jupyter-widgets/base",
            "_model_module_version": "1.2.0",
            "_model_name": "LayoutModel",
            "_view_count": null,
            "_view_module": "@jupyter-widgets/base",
            "_view_module_version": "1.2.0",
            "_view_name": "LayoutView",
            "align_content": null,
            "align_items": null,
            "align_self": null,
            "border": null,
            "bottom": null,
            "display": null,
            "flex": null,
            "flex_flow": null,
            "grid_area": null,
            "grid_auto_columns": null,
            "grid_auto_flow": null,
            "grid_auto_rows": null,
            "grid_column": null,
            "grid_gap": null,
            "grid_row": null,
            "grid_template_areas": null,
            "grid_template_columns": null,
            "grid_template_rows": null,
            "height": null,
            "justify_content": null,
            "justify_items": null,
            "left": null,
            "margin": null,
            "max_height": null,
            "max_width": null,
            "min_height": null,
            "min_width": null,
            "object_fit": null,
            "object_position": null,
            "order": null,
            "overflow": null,
            "overflow_x": null,
            "overflow_y": null,
            "padding": null,
            "right": null,
            "top": null,
            "visibility": null,
            "width": null
          }
        },
        "42ac7b89eb8a446bacbc057b223231f9": {
          "model_module": "@jupyter-widgets/base",
          "model_name": "LayoutModel",
          "model_module_version": "1.2.0",
          "state": {
            "_model_module": "@jupyter-widgets/base",
            "_model_module_version": "1.2.0",
            "_model_name": "LayoutModel",
            "_view_count": null,
            "_view_module": "@jupyter-widgets/base",
            "_view_module_version": "1.2.0",
            "_view_name": "LayoutView",
            "align_content": null,
            "align_items": null,
            "align_self": null,
            "border": null,
            "bottom": null,
            "display": null,
            "flex": null,
            "flex_flow": null,
            "grid_area": null,
            "grid_auto_columns": null,
            "grid_auto_flow": null,
            "grid_auto_rows": null,
            "grid_column": null,
            "grid_gap": null,
            "grid_row": null,
            "grid_template_areas": null,
            "grid_template_columns": null,
            "grid_template_rows": null,
            "height": null,
            "justify_content": null,
            "justify_items": null,
            "left": null,
            "margin": null,
            "max_height": null,
            "max_width": null,
            "min_height": null,
            "min_width": null,
            "object_fit": null,
            "object_position": null,
            "order": null,
            "overflow": null,
            "overflow_x": null,
            "overflow_y": null,
            "padding": null,
            "right": null,
            "top": null,
            "visibility": null,
            "width": null
          }
        },
        "693c1470e4744293b0796693591a72be": {
          "model_module": "@jupyter-widgets/controls",
          "model_name": "DescriptionStyleModel",
          "model_module_version": "1.5.0",
          "state": {
            "_model_module": "@jupyter-widgets/controls",
            "_model_module_version": "1.5.0",
            "_model_name": "DescriptionStyleModel",
            "_view_count": null,
            "_view_module": "@jupyter-widgets/base",
            "_view_module_version": "1.2.0",
            "_view_name": "StyleView",
            "description_width": ""
          }
        },
        "94f9241d477547ae99c20a2868210c6d": {
          "model_module": "@jupyter-widgets/base",
          "model_name": "LayoutModel",
          "model_module_version": "1.2.0",
          "state": {
            "_model_module": "@jupyter-widgets/base",
            "_model_module_version": "1.2.0",
            "_model_name": "LayoutModel",
            "_view_count": null,
            "_view_module": "@jupyter-widgets/base",
            "_view_module_version": "1.2.0",
            "_view_name": "LayoutView",
            "align_content": null,
            "align_items": null,
            "align_self": null,
            "border": null,
            "bottom": null,
            "display": null,
            "flex": null,
            "flex_flow": null,
            "grid_area": null,
            "grid_auto_columns": null,
            "grid_auto_flow": null,
            "grid_auto_rows": null,
            "grid_column": null,
            "grid_gap": null,
            "grid_row": null,
            "grid_template_areas": null,
            "grid_template_columns": null,
            "grid_template_rows": null,
            "height": null,
            "justify_content": null,
            "justify_items": null,
            "left": null,
            "margin": null,
            "max_height": null,
            "max_width": null,
            "min_height": null,
            "min_width": null,
            "object_fit": null,
            "object_position": null,
            "order": null,
            "overflow": null,
            "overflow_x": null,
            "overflow_y": null,
            "padding": null,
            "right": null,
            "top": null,
            "visibility": null,
            "width": null
          }
        },
        "2e316c47f46b4122a213f144c5783197": {
          "model_module": "@jupyter-widgets/controls",
          "model_name": "ProgressStyleModel",
          "model_module_version": "1.5.0",
          "state": {
            "_model_module": "@jupyter-widgets/controls",
            "_model_module_version": "1.5.0",
            "_model_name": "ProgressStyleModel",
            "_view_count": null,
            "_view_module": "@jupyter-widgets/base",
            "_view_module_version": "1.2.0",
            "_view_name": "StyleView",
            "bar_color": null,
            "description_width": ""
          }
        },
        "1031c5acbbb44fdd9da1f4712c138d83": {
          "model_module": "@jupyter-widgets/base",
          "model_name": "LayoutModel",
          "model_module_version": "1.2.0",
          "state": {
            "_model_module": "@jupyter-widgets/base",
            "_model_module_version": "1.2.0",
            "_model_name": "LayoutModel",
            "_view_count": null,
            "_view_module": "@jupyter-widgets/base",
            "_view_module_version": "1.2.0",
            "_view_name": "LayoutView",
            "align_content": null,
            "align_items": null,
            "align_self": null,
            "border": null,
            "bottom": null,
            "display": null,
            "flex": null,
            "flex_flow": null,
            "grid_area": null,
            "grid_auto_columns": null,
            "grid_auto_flow": null,
            "grid_auto_rows": null,
            "grid_column": null,
            "grid_gap": null,
            "grid_row": null,
            "grid_template_areas": null,
            "grid_template_columns": null,
            "grid_template_rows": null,
            "height": null,
            "justify_content": null,
            "justify_items": null,
            "left": null,
            "margin": null,
            "max_height": null,
            "max_width": null,
            "min_height": null,
            "min_width": null,
            "object_fit": null,
            "object_position": null,
            "order": null,
            "overflow": null,
            "overflow_x": null,
            "overflow_y": null,
            "padding": null,
            "right": null,
            "top": null,
            "visibility": null,
            "width": null
          }
        },
        "7cb8705e6e1c4f8dbdff497a323b872c": {
          "model_module": "@jupyter-widgets/controls",
          "model_name": "DescriptionStyleModel",
          "model_module_version": "1.5.0",
          "state": {
            "_model_module": "@jupyter-widgets/controls",
            "_model_module_version": "1.5.0",
            "_model_name": "DescriptionStyleModel",
            "_view_count": null,
            "_view_module": "@jupyter-widgets/base",
            "_view_module_version": "1.2.0",
            "_view_name": "StyleView",
            "description_width": ""
          }
        },
        "31c322ed50864f63b744cf17002d51b0": {
          "model_module": "@jupyter-widgets/controls",
          "model_name": "HBoxModel",
          "model_module_version": "1.5.0",
          "state": {
            "_dom_classes": [],
            "_model_module": "@jupyter-widgets/controls",
            "_model_module_version": "1.5.0",
            "_model_name": "HBoxModel",
            "_view_count": null,
            "_view_module": "@jupyter-widgets/controls",
            "_view_module_version": "1.5.0",
            "_view_name": "HBoxView",
            "box_style": "",
            "children": [
              "IPY_MODEL_c7ebaafe200b4ea295c8afedf947ff88",
              "IPY_MODEL_377ddfe8097347cb849be047e8f98c25",
              "IPY_MODEL_62f5c0d0213a4496b05a15b8a9c8e9a0"
            ],
            "layout": "IPY_MODEL_47212a3b495b4a9087c056dd2ade9e68"
          }
        },
        "c7ebaafe200b4ea295c8afedf947ff88": {
          "model_module": "@jupyter-widgets/controls",
          "model_name": "HTMLModel",
          "model_module_version": "1.5.0",
          "state": {
            "_dom_classes": [],
            "_model_module": "@jupyter-widgets/controls",
            "_model_module_version": "1.5.0",
            "_model_name": "HTMLModel",
            "_view_count": null,
            "_view_module": "@jupyter-widgets/controls",
            "_view_module_version": "1.5.0",
            "_view_name": "HTMLView",
            "description": "",
            "description_tooltip": null,
            "layout": "IPY_MODEL_d5b6a0cc3bbe49f789f3496b0a853a59",
            "placeholder": "​",
            "style": "IPY_MODEL_6fabda82f32c47c3812e21a87791659f",
            "value": "model.safetensors: 100%"
          }
        },
        "377ddfe8097347cb849be047e8f98c25": {
          "model_module": "@jupyter-widgets/controls",
          "model_name": "FloatProgressModel",
          "model_module_version": "1.5.0",
          "state": {
            "_dom_classes": [],
            "_model_module": "@jupyter-widgets/controls",
            "_model_module_version": "1.5.0",
            "_model_name": "FloatProgressModel",
            "_view_count": null,
            "_view_module": "@jupyter-widgets/controls",
            "_view_module_version": "1.5.0",
            "_view_name": "ProgressView",
            "bar_style": "success",
            "description": "",
            "description_tooltip": null,
            "layout": "IPY_MODEL_6b5c2bba6b1b45ba8ba5279082f24b65",
            "max": 437967672,
            "min": 0,
            "orientation": "horizontal",
            "style": "IPY_MODEL_cb35142733fe4c5fbd4991b78385d942",
            "value": 437967672
          }
        },
        "62f5c0d0213a4496b05a15b8a9c8e9a0": {
          "model_module": "@jupyter-widgets/controls",
          "model_name": "HTMLModel",
          "model_module_version": "1.5.0",
          "state": {
            "_dom_classes": [],
            "_model_module": "@jupyter-widgets/controls",
            "_model_module_version": "1.5.0",
            "_model_name": "HTMLModel",
            "_view_count": null,
            "_view_module": "@jupyter-widgets/controls",
            "_view_module_version": "1.5.0",
            "_view_name": "HTMLView",
            "description": "",
            "description_tooltip": null,
            "layout": "IPY_MODEL_b0d5cbd354194538aec928a6742224f8",
            "placeholder": "​",
            "style": "IPY_MODEL_b06b5112e2ed4c9bb6b133a520c65283",
            "value": " 438M/438M [00:08&lt;00:00, 84.1MB/s]"
          }
        },
        "47212a3b495b4a9087c056dd2ade9e68": {
          "model_module": "@jupyter-widgets/base",
          "model_name": "LayoutModel",
          "model_module_version": "1.2.0",
          "state": {
            "_model_module": "@jupyter-widgets/base",
            "_model_module_version": "1.2.0",
            "_model_name": "LayoutModel",
            "_view_count": null,
            "_view_module": "@jupyter-widgets/base",
            "_view_module_version": "1.2.0",
            "_view_name": "LayoutView",
            "align_content": null,
            "align_items": null,
            "align_self": null,
            "border": null,
            "bottom": null,
            "display": null,
            "flex": null,
            "flex_flow": null,
            "grid_area": null,
            "grid_auto_columns": null,
            "grid_auto_flow": null,
            "grid_auto_rows": null,
            "grid_column": null,
            "grid_gap": null,
            "grid_row": null,
            "grid_template_areas": null,
            "grid_template_columns": null,
            "grid_template_rows": null,
            "height": null,
            "justify_content": null,
            "justify_items": null,
            "left": null,
            "margin": null,
            "max_height": null,
            "max_width": null,
            "min_height": null,
            "min_width": null,
            "object_fit": null,
            "object_position": null,
            "order": null,
            "overflow": null,
            "overflow_x": null,
            "overflow_y": null,
            "padding": null,
            "right": null,
            "top": null,
            "visibility": null,
            "width": null
          }
        },
        "d5b6a0cc3bbe49f789f3496b0a853a59": {
          "model_module": "@jupyter-widgets/base",
          "model_name": "LayoutModel",
          "model_module_version": "1.2.0",
          "state": {
            "_model_module": "@jupyter-widgets/base",
            "_model_module_version": "1.2.0",
            "_model_name": "LayoutModel",
            "_view_count": null,
            "_view_module": "@jupyter-widgets/base",
            "_view_module_version": "1.2.0",
            "_view_name": "LayoutView",
            "align_content": null,
            "align_items": null,
            "align_self": null,
            "border": null,
            "bottom": null,
            "display": null,
            "flex": null,
            "flex_flow": null,
            "grid_area": null,
            "grid_auto_columns": null,
            "grid_auto_flow": null,
            "grid_auto_rows": null,
            "grid_column": null,
            "grid_gap": null,
            "grid_row": null,
            "grid_template_areas": null,
            "grid_template_columns": null,
            "grid_template_rows": null,
            "height": null,
            "justify_content": null,
            "justify_items": null,
            "left": null,
            "margin": null,
            "max_height": null,
            "max_width": null,
            "min_height": null,
            "min_width": null,
            "object_fit": null,
            "object_position": null,
            "order": null,
            "overflow": null,
            "overflow_x": null,
            "overflow_y": null,
            "padding": null,
            "right": null,
            "top": null,
            "visibility": null,
            "width": null
          }
        },
        "6fabda82f32c47c3812e21a87791659f": {
          "model_module": "@jupyter-widgets/controls",
          "model_name": "DescriptionStyleModel",
          "model_module_version": "1.5.0",
          "state": {
            "_model_module": "@jupyter-widgets/controls",
            "_model_module_version": "1.5.0",
            "_model_name": "DescriptionStyleModel",
            "_view_count": null,
            "_view_module": "@jupyter-widgets/base",
            "_view_module_version": "1.2.0",
            "_view_name": "StyleView",
            "description_width": ""
          }
        },
        "6b5c2bba6b1b45ba8ba5279082f24b65": {
          "model_module": "@jupyter-widgets/base",
          "model_name": "LayoutModel",
          "model_module_version": "1.2.0",
          "state": {
            "_model_module": "@jupyter-widgets/base",
            "_model_module_version": "1.2.0",
            "_model_name": "LayoutModel",
            "_view_count": null,
            "_view_module": "@jupyter-widgets/base",
            "_view_module_version": "1.2.0",
            "_view_name": "LayoutView",
            "align_content": null,
            "align_items": null,
            "align_self": null,
            "border": null,
            "bottom": null,
            "display": null,
            "flex": null,
            "flex_flow": null,
            "grid_area": null,
            "grid_auto_columns": null,
            "grid_auto_flow": null,
            "grid_auto_rows": null,
            "grid_column": null,
            "grid_gap": null,
            "grid_row": null,
            "grid_template_areas": null,
            "grid_template_columns": null,
            "grid_template_rows": null,
            "height": null,
            "justify_content": null,
            "justify_items": null,
            "left": null,
            "margin": null,
            "max_height": null,
            "max_width": null,
            "min_height": null,
            "min_width": null,
            "object_fit": null,
            "object_position": null,
            "order": null,
            "overflow": null,
            "overflow_x": null,
            "overflow_y": null,
            "padding": null,
            "right": null,
            "top": null,
            "visibility": null,
            "width": null
          }
        },
        "cb35142733fe4c5fbd4991b78385d942": {
          "model_module": "@jupyter-widgets/controls",
          "model_name": "ProgressStyleModel",
          "model_module_version": "1.5.0",
          "state": {
            "_model_module": "@jupyter-widgets/controls",
            "_model_module_version": "1.5.0",
            "_model_name": "ProgressStyleModel",
            "_view_count": null,
            "_view_module": "@jupyter-widgets/base",
            "_view_module_version": "1.2.0",
            "_view_name": "StyleView",
            "bar_color": null,
            "description_width": ""
          }
        },
        "b0d5cbd354194538aec928a6742224f8": {
          "model_module": "@jupyter-widgets/base",
          "model_name": "LayoutModel",
          "model_module_version": "1.2.0",
          "state": {
            "_model_module": "@jupyter-widgets/base",
            "_model_module_version": "1.2.0",
            "_model_name": "LayoutModel",
            "_view_count": null,
            "_view_module": "@jupyter-widgets/base",
            "_view_module_version": "1.2.0",
            "_view_name": "LayoutView",
            "align_content": null,
            "align_items": null,
            "align_self": null,
            "border": null,
            "bottom": null,
            "display": null,
            "flex": null,
            "flex_flow": null,
            "grid_area": null,
            "grid_auto_columns": null,
            "grid_auto_flow": null,
            "grid_auto_rows": null,
            "grid_column": null,
            "grid_gap": null,
            "grid_row": null,
            "grid_template_areas": null,
            "grid_template_columns": null,
            "grid_template_rows": null,
            "height": null,
            "justify_content": null,
            "justify_items": null,
            "left": null,
            "margin": null,
            "max_height": null,
            "max_width": null,
            "min_height": null,
            "min_width": null,
            "object_fit": null,
            "object_position": null,
            "order": null,
            "overflow": null,
            "overflow_x": null,
            "overflow_y": null,
            "padding": null,
            "right": null,
            "top": null,
            "visibility": null,
            "width": null
          }
        },
        "b06b5112e2ed4c9bb6b133a520c65283": {
          "model_module": "@jupyter-widgets/controls",
          "model_name": "DescriptionStyleModel",
          "model_module_version": "1.5.0",
          "state": {
            "_model_module": "@jupyter-widgets/controls",
            "_model_module_version": "1.5.0",
            "_model_name": "DescriptionStyleModel",
            "_view_count": null,
            "_view_module": "@jupyter-widgets/base",
            "_view_module_version": "1.2.0",
            "_view_name": "StyleView",
            "description_width": ""
          }
        },
        "c0299704f66343b8b2a7876da74f4f04": {
          "model_module": "@jupyter-widgets/controls",
          "model_name": "HBoxModel",
          "model_module_version": "1.5.0",
          "state": {
            "_dom_classes": [],
            "_model_module": "@jupyter-widgets/controls",
            "_model_module_version": "1.5.0",
            "_model_name": "HBoxModel",
            "_view_count": null,
            "_view_module": "@jupyter-widgets/controls",
            "_view_module_version": "1.5.0",
            "_view_name": "HBoxView",
            "box_style": "",
            "children": [
              "IPY_MODEL_7d23cdfde1b243858dc3c1a7286e8525",
              "IPY_MODEL_8ba0121bdd604bf69a5bb62de846b597",
              "IPY_MODEL_eb9586a5a80f4b9aacb4b65d34a0e126"
            ],
            "layout": "IPY_MODEL_8683e891ed3640ffb8d36031f9ff2e4f"
          }
        },
        "7d23cdfde1b243858dc3c1a7286e8525": {
          "model_module": "@jupyter-widgets/controls",
          "model_name": "HTMLModel",
          "model_module_version": "1.5.0",
          "state": {
            "_dom_classes": [],
            "_model_module": "@jupyter-widgets/controls",
            "_model_module_version": "1.5.0",
            "_model_name": "HTMLModel",
            "_view_count": null,
            "_view_module": "@jupyter-widgets/controls",
            "_view_module_version": "1.5.0",
            "_view_name": "HTMLView",
            "description": "",
            "description_tooltip": null,
            "layout": "IPY_MODEL_70b58fb86f4d460db239df4e97006048",
            "placeholder": "​",
            "style": "IPY_MODEL_3d740b3f6c764f038753edff4d00af80",
            "value": "tokenizer_config.json: 100%"
          }
        },
        "8ba0121bdd604bf69a5bb62de846b597": {
          "model_module": "@jupyter-widgets/controls",
          "model_name": "FloatProgressModel",
          "model_module_version": "1.5.0",
          "state": {
            "_dom_classes": [],
            "_model_module": "@jupyter-widgets/controls",
            "_model_module_version": "1.5.0",
            "_model_name": "FloatProgressModel",
            "_view_count": null,
            "_view_module": "@jupyter-widgets/controls",
            "_view_module_version": "1.5.0",
            "_view_name": "ProgressView",
            "bar_style": "success",
            "description": "",
            "description_tooltip": null,
            "layout": "IPY_MODEL_0b76198dc1ae46629d6511dcccdfbe7b",
            "max": 1584,
            "min": 0,
            "orientation": "horizontal",
            "style": "IPY_MODEL_c74963291042483eb127ab2ac820c2ba",
            "value": 1584
          }
        },
        "eb9586a5a80f4b9aacb4b65d34a0e126": {
          "model_module": "@jupyter-widgets/controls",
          "model_name": "HTMLModel",
          "model_module_version": "1.5.0",
          "state": {
            "_dom_classes": [],
            "_model_module": "@jupyter-widgets/controls",
            "_model_module_version": "1.5.0",
            "_model_name": "HTMLModel",
            "_view_count": null,
            "_view_module": "@jupyter-widgets/controls",
            "_view_module_version": "1.5.0",
            "_view_name": "HTMLView",
            "description": "",
            "description_tooltip": null,
            "layout": "IPY_MODEL_9eb827549bb7436daf045668394d87ac",
            "placeholder": "​",
            "style": "IPY_MODEL_afbce76114c1490e87bebcc5cd0a9c9e",
            "value": " 1.58k/1.58k [00:00&lt;00:00, 81.1kB/s]"
          }
        },
        "8683e891ed3640ffb8d36031f9ff2e4f": {
          "model_module": "@jupyter-widgets/base",
          "model_name": "LayoutModel",
          "model_module_version": "1.2.0",
          "state": {
            "_model_module": "@jupyter-widgets/base",
            "_model_module_version": "1.2.0",
            "_model_name": "LayoutModel",
            "_view_count": null,
            "_view_module": "@jupyter-widgets/base",
            "_view_module_version": "1.2.0",
            "_view_name": "LayoutView",
            "align_content": null,
            "align_items": null,
            "align_self": null,
            "border": null,
            "bottom": null,
            "display": null,
            "flex": null,
            "flex_flow": null,
            "grid_area": null,
            "grid_auto_columns": null,
            "grid_auto_flow": null,
            "grid_auto_rows": null,
            "grid_column": null,
            "grid_gap": null,
            "grid_row": null,
            "grid_template_areas": null,
            "grid_template_columns": null,
            "grid_template_rows": null,
            "height": null,
            "justify_content": null,
            "justify_items": null,
            "left": null,
            "margin": null,
            "max_height": null,
            "max_width": null,
            "min_height": null,
            "min_width": null,
            "object_fit": null,
            "object_position": null,
            "order": null,
            "overflow": null,
            "overflow_x": null,
            "overflow_y": null,
            "padding": null,
            "right": null,
            "top": null,
            "visibility": null,
            "width": null
          }
        },
        "70b58fb86f4d460db239df4e97006048": {
          "model_module": "@jupyter-widgets/base",
          "model_name": "LayoutModel",
          "model_module_version": "1.2.0",
          "state": {
            "_model_module": "@jupyter-widgets/base",
            "_model_module_version": "1.2.0",
            "_model_name": "LayoutModel",
            "_view_count": null,
            "_view_module": "@jupyter-widgets/base",
            "_view_module_version": "1.2.0",
            "_view_name": "LayoutView",
            "align_content": null,
            "align_items": null,
            "align_self": null,
            "border": null,
            "bottom": null,
            "display": null,
            "flex": null,
            "flex_flow": null,
            "grid_area": null,
            "grid_auto_columns": null,
            "grid_auto_flow": null,
            "grid_auto_rows": null,
            "grid_column": null,
            "grid_gap": null,
            "grid_row": null,
            "grid_template_areas": null,
            "grid_template_columns": null,
            "grid_template_rows": null,
            "height": null,
            "justify_content": null,
            "justify_items": null,
            "left": null,
            "margin": null,
            "max_height": null,
            "max_width": null,
            "min_height": null,
            "min_width": null,
            "object_fit": null,
            "object_position": null,
            "order": null,
            "overflow": null,
            "overflow_x": null,
            "overflow_y": null,
            "padding": null,
            "right": null,
            "top": null,
            "visibility": null,
            "width": null
          }
        },
        "3d740b3f6c764f038753edff4d00af80": {
          "model_module": "@jupyter-widgets/controls",
          "model_name": "DescriptionStyleModel",
          "model_module_version": "1.5.0",
          "state": {
            "_model_module": "@jupyter-widgets/controls",
            "_model_module_version": "1.5.0",
            "_model_name": "DescriptionStyleModel",
            "_view_count": null,
            "_view_module": "@jupyter-widgets/base",
            "_view_module_version": "1.2.0",
            "_view_name": "StyleView",
            "description_width": ""
          }
        },
        "0b76198dc1ae46629d6511dcccdfbe7b": {
          "model_module": "@jupyter-widgets/base",
          "model_name": "LayoutModel",
          "model_module_version": "1.2.0",
          "state": {
            "_model_module": "@jupyter-widgets/base",
            "_model_module_version": "1.2.0",
            "_model_name": "LayoutModel",
            "_view_count": null,
            "_view_module": "@jupyter-widgets/base",
            "_view_module_version": "1.2.0",
            "_view_name": "LayoutView",
            "align_content": null,
            "align_items": null,
            "align_self": null,
            "border": null,
            "bottom": null,
            "display": null,
            "flex": null,
            "flex_flow": null,
            "grid_area": null,
            "grid_auto_columns": null,
            "grid_auto_flow": null,
            "grid_auto_rows": null,
            "grid_column": null,
            "grid_gap": null,
            "grid_row": null,
            "grid_template_areas": null,
            "grid_template_columns": null,
            "grid_template_rows": null,
            "height": null,
            "justify_content": null,
            "justify_items": null,
            "left": null,
            "margin": null,
            "max_height": null,
            "max_width": null,
            "min_height": null,
            "min_width": null,
            "object_fit": null,
            "object_position": null,
            "order": null,
            "overflow": null,
            "overflow_x": null,
            "overflow_y": null,
            "padding": null,
            "right": null,
            "top": null,
            "visibility": null,
            "width": null
          }
        },
        "c74963291042483eb127ab2ac820c2ba": {
          "model_module": "@jupyter-widgets/controls",
          "model_name": "ProgressStyleModel",
          "model_module_version": "1.5.0",
          "state": {
            "_model_module": "@jupyter-widgets/controls",
            "_model_module_version": "1.5.0",
            "_model_name": "ProgressStyleModel",
            "_view_count": null,
            "_view_module": "@jupyter-widgets/base",
            "_view_module_version": "1.2.0",
            "_view_name": "StyleView",
            "bar_color": null,
            "description_width": ""
          }
        },
        "9eb827549bb7436daf045668394d87ac": {
          "model_module": "@jupyter-widgets/base",
          "model_name": "LayoutModel",
          "model_module_version": "1.2.0",
          "state": {
            "_model_module": "@jupyter-widgets/base",
            "_model_module_version": "1.2.0",
            "_model_name": "LayoutModel",
            "_view_count": null,
            "_view_module": "@jupyter-widgets/base",
            "_view_module_version": "1.2.0",
            "_view_name": "LayoutView",
            "align_content": null,
            "align_items": null,
            "align_self": null,
            "border": null,
            "bottom": null,
            "display": null,
            "flex": null,
            "flex_flow": null,
            "grid_area": null,
            "grid_auto_columns": null,
            "grid_auto_flow": null,
            "grid_auto_rows": null,
            "grid_column": null,
            "grid_gap": null,
            "grid_row": null,
            "grid_template_areas": null,
            "grid_template_columns": null,
            "grid_template_rows": null,
            "height": null,
            "justify_content": null,
            "justify_items": null,
            "left": null,
            "margin": null,
            "max_height": null,
            "max_width": null,
            "min_height": null,
            "min_width": null,
            "object_fit": null,
            "object_position": null,
            "order": null,
            "overflow": null,
            "overflow_x": null,
            "overflow_y": null,
            "padding": null,
            "right": null,
            "top": null,
            "visibility": null,
            "width": null
          }
        },
        "afbce76114c1490e87bebcc5cd0a9c9e": {
          "model_module": "@jupyter-widgets/controls",
          "model_name": "DescriptionStyleModel",
          "model_module_version": "1.5.0",
          "state": {
            "_model_module": "@jupyter-widgets/controls",
            "_model_module_version": "1.5.0",
            "_model_name": "DescriptionStyleModel",
            "_view_count": null,
            "_view_module": "@jupyter-widgets/base",
            "_view_module_version": "1.2.0",
            "_view_name": "StyleView",
            "description_width": ""
          }
        },
        "a8955264ded9483e910bb3839f396a7f": {
          "model_module": "@jupyter-widgets/controls",
          "model_name": "HBoxModel",
          "model_module_version": "1.5.0",
          "state": {
            "_dom_classes": [],
            "_model_module": "@jupyter-widgets/controls",
            "_model_module_version": "1.5.0",
            "_model_name": "HBoxModel",
            "_view_count": null,
            "_view_module": "@jupyter-widgets/controls",
            "_view_module_version": "1.5.0",
            "_view_name": "HBoxView",
            "box_style": "",
            "children": [
              "IPY_MODEL_a00358a8abeb4d1c87d76f6731cda6b2",
              "IPY_MODEL_ce2f7be0219b4faa946038b5f1859910",
              "IPY_MODEL_ea1d6dbdfc194886bfd3d8e5e7140baa"
            ],
            "layout": "IPY_MODEL_14c44191fa654bdea12c0f8bb81ce805"
          }
        },
        "a00358a8abeb4d1c87d76f6731cda6b2": {
          "model_module": "@jupyter-widgets/controls",
          "model_name": "HTMLModel",
          "model_module_version": "1.5.0",
          "state": {
            "_dom_classes": [],
            "_model_module": "@jupyter-widgets/controls",
            "_model_module_version": "1.5.0",
            "_model_name": "HTMLModel",
            "_view_count": null,
            "_view_module": "@jupyter-widgets/controls",
            "_view_module_version": "1.5.0",
            "_view_name": "HTMLView",
            "description": "",
            "description_tooltip": null,
            "layout": "IPY_MODEL_f338daed2f7c4829b7d99989080c7795",
            "placeholder": "​",
            "style": "IPY_MODEL_80dc45a83fc645369a1699f8d5c1bae7",
            "value": "vocab.txt: 100%"
          }
        },
        "ce2f7be0219b4faa946038b5f1859910": {
          "model_module": "@jupyter-widgets/controls",
          "model_name": "FloatProgressModel",
          "model_module_version": "1.5.0",
          "state": {
            "_dom_classes": [],
            "_model_module": "@jupyter-widgets/controls",
            "_model_module_version": "1.5.0",
            "_model_name": "FloatProgressModel",
            "_view_count": null,
            "_view_module": "@jupyter-widgets/controls",
            "_view_module_version": "1.5.0",
            "_view_name": "ProgressView",
            "bar_style": "success",
            "description": "",
            "description_tooltip": null,
            "layout": "IPY_MODEL_487c058ccb404e56bf6aee846bfe5746",
            "max": 231536,
            "min": 0,
            "orientation": "horizontal",
            "style": "IPY_MODEL_0b7c08bd39d24c4a84d7db890bb6f025",
            "value": 231536
          }
        },
        "ea1d6dbdfc194886bfd3d8e5e7140baa": {
          "model_module": "@jupyter-widgets/controls",
          "model_name": "HTMLModel",
          "model_module_version": "1.5.0",
          "state": {
            "_dom_classes": [],
            "_model_module": "@jupyter-widgets/controls",
            "_model_module_version": "1.5.0",
            "_model_name": "HTMLModel",
            "_view_count": null,
            "_view_module": "@jupyter-widgets/controls",
            "_view_module_version": "1.5.0",
            "_view_name": "HTMLView",
            "description": "",
            "description_tooltip": null,
            "layout": "IPY_MODEL_d5489772a2d6485e957ef666dc7f92b3",
            "placeholder": "​",
            "style": "IPY_MODEL_8910b38f12b842d680138fbb4e91f147",
            "value": " 232k/232k [00:00&lt;00:00, 4.75MB/s]"
          }
        },
        "14c44191fa654bdea12c0f8bb81ce805": {
          "model_module": "@jupyter-widgets/base",
          "model_name": "LayoutModel",
          "model_module_version": "1.2.0",
          "state": {
            "_model_module": "@jupyter-widgets/base",
            "_model_module_version": "1.2.0",
            "_model_name": "LayoutModel",
            "_view_count": null,
            "_view_module": "@jupyter-widgets/base",
            "_view_module_version": "1.2.0",
            "_view_name": "LayoutView",
            "align_content": null,
            "align_items": null,
            "align_self": null,
            "border": null,
            "bottom": null,
            "display": null,
            "flex": null,
            "flex_flow": null,
            "grid_area": null,
            "grid_auto_columns": null,
            "grid_auto_flow": null,
            "grid_auto_rows": null,
            "grid_column": null,
            "grid_gap": null,
            "grid_row": null,
            "grid_template_areas": null,
            "grid_template_columns": null,
            "grid_template_rows": null,
            "height": null,
            "justify_content": null,
            "justify_items": null,
            "left": null,
            "margin": null,
            "max_height": null,
            "max_width": null,
            "min_height": null,
            "min_width": null,
            "object_fit": null,
            "object_position": null,
            "order": null,
            "overflow": null,
            "overflow_x": null,
            "overflow_y": null,
            "padding": null,
            "right": null,
            "top": null,
            "visibility": null,
            "width": null
          }
        },
        "f338daed2f7c4829b7d99989080c7795": {
          "model_module": "@jupyter-widgets/base",
          "model_name": "LayoutModel",
          "model_module_version": "1.2.0",
          "state": {
            "_model_module": "@jupyter-widgets/base",
            "_model_module_version": "1.2.0",
            "_model_name": "LayoutModel",
            "_view_count": null,
            "_view_module": "@jupyter-widgets/base",
            "_view_module_version": "1.2.0",
            "_view_name": "LayoutView",
            "align_content": null,
            "align_items": null,
            "align_self": null,
            "border": null,
            "bottom": null,
            "display": null,
            "flex": null,
            "flex_flow": null,
            "grid_area": null,
            "grid_auto_columns": null,
            "grid_auto_flow": null,
            "grid_auto_rows": null,
            "grid_column": null,
            "grid_gap": null,
            "grid_row": null,
            "grid_template_areas": null,
            "grid_template_columns": null,
            "grid_template_rows": null,
            "height": null,
            "justify_content": null,
            "justify_items": null,
            "left": null,
            "margin": null,
            "max_height": null,
            "max_width": null,
            "min_height": null,
            "min_width": null,
            "object_fit": null,
            "object_position": null,
            "order": null,
            "overflow": null,
            "overflow_x": null,
            "overflow_y": null,
            "padding": null,
            "right": null,
            "top": null,
            "visibility": null,
            "width": null
          }
        },
        "80dc45a83fc645369a1699f8d5c1bae7": {
          "model_module": "@jupyter-widgets/controls",
          "model_name": "DescriptionStyleModel",
          "model_module_version": "1.5.0",
          "state": {
            "_model_module": "@jupyter-widgets/controls",
            "_model_module_version": "1.5.0",
            "_model_name": "DescriptionStyleModel",
            "_view_count": null,
            "_view_module": "@jupyter-widgets/base",
            "_view_module_version": "1.2.0",
            "_view_name": "StyleView",
            "description_width": ""
          }
        },
        "487c058ccb404e56bf6aee846bfe5746": {
          "model_module": "@jupyter-widgets/base",
          "model_name": "LayoutModel",
          "model_module_version": "1.2.0",
          "state": {
            "_model_module": "@jupyter-widgets/base",
            "_model_module_version": "1.2.0",
            "_model_name": "LayoutModel",
            "_view_count": null,
            "_view_module": "@jupyter-widgets/base",
            "_view_module_version": "1.2.0",
            "_view_name": "LayoutView",
            "align_content": null,
            "align_items": null,
            "align_self": null,
            "border": null,
            "bottom": null,
            "display": null,
            "flex": null,
            "flex_flow": null,
            "grid_area": null,
            "grid_auto_columns": null,
            "grid_auto_flow": null,
            "grid_auto_rows": null,
            "grid_column": null,
            "grid_gap": null,
            "grid_row": null,
            "grid_template_areas": null,
            "grid_template_columns": null,
            "grid_template_rows": null,
            "height": null,
            "justify_content": null,
            "justify_items": null,
            "left": null,
            "margin": null,
            "max_height": null,
            "max_width": null,
            "min_height": null,
            "min_width": null,
            "object_fit": null,
            "object_position": null,
            "order": null,
            "overflow": null,
            "overflow_x": null,
            "overflow_y": null,
            "padding": null,
            "right": null,
            "top": null,
            "visibility": null,
            "width": null
          }
        },
        "0b7c08bd39d24c4a84d7db890bb6f025": {
          "model_module": "@jupyter-widgets/controls",
          "model_name": "ProgressStyleModel",
          "model_module_version": "1.5.0",
          "state": {
            "_model_module": "@jupyter-widgets/controls",
            "_model_module_version": "1.5.0",
            "_model_name": "ProgressStyleModel",
            "_view_count": null,
            "_view_module": "@jupyter-widgets/base",
            "_view_module_version": "1.2.0",
            "_view_name": "StyleView",
            "bar_color": null,
            "description_width": ""
          }
        },
        "d5489772a2d6485e957ef666dc7f92b3": {
          "model_module": "@jupyter-widgets/base",
          "model_name": "LayoutModel",
          "model_module_version": "1.2.0",
          "state": {
            "_model_module": "@jupyter-widgets/base",
            "_model_module_version": "1.2.0",
            "_model_name": "LayoutModel",
            "_view_count": null,
            "_view_module": "@jupyter-widgets/base",
            "_view_module_version": "1.2.0",
            "_view_name": "LayoutView",
            "align_content": null,
            "align_items": null,
            "align_self": null,
            "border": null,
            "bottom": null,
            "display": null,
            "flex": null,
            "flex_flow": null,
            "grid_area": null,
            "grid_auto_columns": null,
            "grid_auto_flow": null,
            "grid_auto_rows": null,
            "grid_column": null,
            "grid_gap": null,
            "grid_row": null,
            "grid_template_areas": null,
            "grid_template_columns": null,
            "grid_template_rows": null,
            "height": null,
            "justify_content": null,
            "justify_items": null,
            "left": null,
            "margin": null,
            "max_height": null,
            "max_width": null,
            "min_height": null,
            "min_width": null,
            "object_fit": null,
            "object_position": null,
            "order": null,
            "overflow": null,
            "overflow_x": null,
            "overflow_y": null,
            "padding": null,
            "right": null,
            "top": null,
            "visibility": null,
            "width": null
          }
        },
        "8910b38f12b842d680138fbb4e91f147": {
          "model_module": "@jupyter-widgets/controls",
          "model_name": "DescriptionStyleModel",
          "model_module_version": "1.5.0",
          "state": {
            "_model_module": "@jupyter-widgets/controls",
            "_model_module_version": "1.5.0",
            "_model_name": "DescriptionStyleModel",
            "_view_count": null,
            "_view_module": "@jupyter-widgets/base",
            "_view_module_version": "1.2.0",
            "_view_name": "StyleView",
            "description_width": ""
          }
        },
        "50b80d8304df43fdba5d406e811d8622": {
          "model_module": "@jupyter-widgets/controls",
          "model_name": "HBoxModel",
          "model_module_version": "1.5.0",
          "state": {
            "_dom_classes": [],
            "_model_module": "@jupyter-widgets/controls",
            "_model_module_version": "1.5.0",
            "_model_name": "HBoxModel",
            "_view_count": null,
            "_view_module": "@jupyter-widgets/controls",
            "_view_module_version": "1.5.0",
            "_view_name": "HBoxView",
            "box_style": "",
            "children": [
              "IPY_MODEL_6b8709b727554dd294d88a8865836aae",
              "IPY_MODEL_1a0b75da545745e1ab584e70b12324c9",
              "IPY_MODEL_fc9c5d43fd074fc9adcbf7525d977f04"
            ],
            "layout": "IPY_MODEL_4aec9f57934143d8be0ba62d8f6e2294"
          }
        },
        "6b8709b727554dd294d88a8865836aae": {
          "model_module": "@jupyter-widgets/controls",
          "model_name": "HTMLModel",
          "model_module_version": "1.5.0",
          "state": {
            "_dom_classes": [],
            "_model_module": "@jupyter-widgets/controls",
            "_model_module_version": "1.5.0",
            "_model_name": "HTMLModel",
            "_view_count": null,
            "_view_module": "@jupyter-widgets/controls",
            "_view_module_version": "1.5.0",
            "_view_name": "HTMLView",
            "description": "",
            "description_tooltip": null,
            "layout": "IPY_MODEL_bbc063948a434714802d8824215b4ec5",
            "placeholder": "​",
            "style": "IPY_MODEL_31a691ea4d3f4bcfaa2a4302cf5fd728",
            "value": "tokenizer.json: 100%"
          }
        },
        "1a0b75da545745e1ab584e70b12324c9": {
          "model_module": "@jupyter-widgets/controls",
          "model_name": "FloatProgressModel",
          "model_module_version": "1.5.0",
          "state": {
            "_dom_classes": [],
            "_model_module": "@jupyter-widgets/controls",
            "_model_module_version": "1.5.0",
            "_model_name": "FloatProgressModel",
            "_view_count": null,
            "_view_module": "@jupyter-widgets/controls",
            "_view_module_version": "1.5.0",
            "_view_name": "ProgressView",
            "bar_style": "success",
            "description": "",
            "description_tooltip": null,
            "layout": "IPY_MODEL_7edeebf6fa4d4ddca1235353d4155c9c",
            "max": 710932,
            "min": 0,
            "orientation": "horizontal",
            "style": "IPY_MODEL_3854dcdc9c9f4caf9e79fa2717b7f80f",
            "value": 710932
          }
        },
        "fc9c5d43fd074fc9adcbf7525d977f04": {
          "model_module": "@jupyter-widgets/controls",
          "model_name": "HTMLModel",
          "model_module_version": "1.5.0",
          "state": {
            "_dom_classes": [],
            "_model_module": "@jupyter-widgets/controls",
            "_model_module_version": "1.5.0",
            "_model_name": "HTMLModel",
            "_view_count": null,
            "_view_module": "@jupyter-widgets/controls",
            "_view_module_version": "1.5.0",
            "_view_name": "HTMLView",
            "description": "",
            "description_tooltip": null,
            "layout": "IPY_MODEL_b3e0043d91dc4f7eb14ac334d6a97c7c",
            "placeholder": "​",
            "style": "IPY_MODEL_ed4886bb61c444d3a00c4ed80c7fea79",
            "value": " 711k/711k [00:00&lt;00:00, 5.62MB/s]"
          }
        },
        "4aec9f57934143d8be0ba62d8f6e2294": {
          "model_module": "@jupyter-widgets/base",
          "model_name": "LayoutModel",
          "model_module_version": "1.2.0",
          "state": {
            "_model_module": "@jupyter-widgets/base",
            "_model_module_version": "1.2.0",
            "_model_name": "LayoutModel",
            "_view_count": null,
            "_view_module": "@jupyter-widgets/base",
            "_view_module_version": "1.2.0",
            "_view_name": "LayoutView",
            "align_content": null,
            "align_items": null,
            "align_self": null,
            "border": null,
            "bottom": null,
            "display": null,
            "flex": null,
            "flex_flow": null,
            "grid_area": null,
            "grid_auto_columns": null,
            "grid_auto_flow": null,
            "grid_auto_rows": null,
            "grid_column": null,
            "grid_gap": null,
            "grid_row": null,
            "grid_template_areas": null,
            "grid_template_columns": null,
            "grid_template_rows": null,
            "height": null,
            "justify_content": null,
            "justify_items": null,
            "left": null,
            "margin": null,
            "max_height": null,
            "max_width": null,
            "min_height": null,
            "min_width": null,
            "object_fit": null,
            "object_position": null,
            "order": null,
            "overflow": null,
            "overflow_x": null,
            "overflow_y": null,
            "padding": null,
            "right": null,
            "top": null,
            "visibility": null,
            "width": null
          }
        },
        "bbc063948a434714802d8824215b4ec5": {
          "model_module": "@jupyter-widgets/base",
          "model_name": "LayoutModel",
          "model_module_version": "1.2.0",
          "state": {
            "_model_module": "@jupyter-widgets/base",
            "_model_module_version": "1.2.0",
            "_model_name": "LayoutModel",
            "_view_count": null,
            "_view_module": "@jupyter-widgets/base",
            "_view_module_version": "1.2.0",
            "_view_name": "LayoutView",
            "align_content": null,
            "align_items": null,
            "align_self": null,
            "border": null,
            "bottom": null,
            "display": null,
            "flex": null,
            "flex_flow": null,
            "grid_area": null,
            "grid_auto_columns": null,
            "grid_auto_flow": null,
            "grid_auto_rows": null,
            "grid_column": null,
            "grid_gap": null,
            "grid_row": null,
            "grid_template_areas": null,
            "grid_template_columns": null,
            "grid_template_rows": null,
            "height": null,
            "justify_content": null,
            "justify_items": null,
            "left": null,
            "margin": null,
            "max_height": null,
            "max_width": null,
            "min_height": null,
            "min_width": null,
            "object_fit": null,
            "object_position": null,
            "order": null,
            "overflow": null,
            "overflow_x": null,
            "overflow_y": null,
            "padding": null,
            "right": null,
            "top": null,
            "visibility": null,
            "width": null
          }
        },
        "31a691ea4d3f4bcfaa2a4302cf5fd728": {
          "model_module": "@jupyter-widgets/controls",
          "model_name": "DescriptionStyleModel",
          "model_module_version": "1.5.0",
          "state": {
            "_model_module": "@jupyter-widgets/controls",
            "_model_module_version": "1.5.0",
            "_model_name": "DescriptionStyleModel",
            "_view_count": null,
            "_view_module": "@jupyter-widgets/base",
            "_view_module_version": "1.2.0",
            "_view_name": "StyleView",
            "description_width": ""
          }
        },
        "7edeebf6fa4d4ddca1235353d4155c9c": {
          "model_module": "@jupyter-widgets/base",
          "model_name": "LayoutModel",
          "model_module_version": "1.2.0",
          "state": {
            "_model_module": "@jupyter-widgets/base",
            "_model_module_version": "1.2.0",
            "_model_name": "LayoutModel",
            "_view_count": null,
            "_view_module": "@jupyter-widgets/base",
            "_view_module_version": "1.2.0",
            "_view_name": "LayoutView",
            "align_content": null,
            "align_items": null,
            "align_self": null,
            "border": null,
            "bottom": null,
            "display": null,
            "flex": null,
            "flex_flow": null,
            "grid_area": null,
            "grid_auto_columns": null,
            "grid_auto_flow": null,
            "grid_auto_rows": null,
            "grid_column": null,
            "grid_gap": null,
            "grid_row": null,
            "grid_template_areas": null,
            "grid_template_columns": null,
            "grid_template_rows": null,
            "height": null,
            "justify_content": null,
            "justify_items": null,
            "left": null,
            "margin": null,
            "max_height": null,
            "max_width": null,
            "min_height": null,
            "min_width": null,
            "object_fit": null,
            "object_position": null,
            "order": null,
            "overflow": null,
            "overflow_x": null,
            "overflow_y": null,
            "padding": null,
            "right": null,
            "top": null,
            "visibility": null,
            "width": null
          }
        },
        "3854dcdc9c9f4caf9e79fa2717b7f80f": {
          "model_module": "@jupyter-widgets/controls",
          "model_name": "ProgressStyleModel",
          "model_module_version": "1.5.0",
          "state": {
            "_model_module": "@jupyter-widgets/controls",
            "_model_module_version": "1.5.0",
            "_model_name": "ProgressStyleModel",
            "_view_count": null,
            "_view_module": "@jupyter-widgets/base",
            "_view_module_version": "1.2.0",
            "_view_name": "StyleView",
            "bar_color": null,
            "description_width": ""
          }
        },
        "b3e0043d91dc4f7eb14ac334d6a97c7c": {
          "model_module": "@jupyter-widgets/base",
          "model_name": "LayoutModel",
          "model_module_version": "1.2.0",
          "state": {
            "_model_module": "@jupyter-widgets/base",
            "_model_module_version": "1.2.0",
            "_model_name": "LayoutModel",
            "_view_count": null,
            "_view_module": "@jupyter-widgets/base",
            "_view_module_version": "1.2.0",
            "_view_name": "LayoutView",
            "align_content": null,
            "align_items": null,
            "align_self": null,
            "border": null,
            "bottom": null,
            "display": null,
            "flex": null,
            "flex_flow": null,
            "grid_area": null,
            "grid_auto_columns": null,
            "grid_auto_flow": null,
            "grid_auto_rows": null,
            "grid_column": null,
            "grid_gap": null,
            "grid_row": null,
            "grid_template_areas": null,
            "grid_template_columns": null,
            "grid_template_rows": null,
            "height": null,
            "justify_content": null,
            "justify_items": null,
            "left": null,
            "margin": null,
            "max_height": null,
            "max_width": null,
            "min_height": null,
            "min_width": null,
            "object_fit": null,
            "object_position": null,
            "order": null,
            "overflow": null,
            "overflow_x": null,
            "overflow_y": null,
            "padding": null,
            "right": null,
            "top": null,
            "visibility": null,
            "width": null
          }
        },
        "ed4886bb61c444d3a00c4ed80c7fea79": {
          "model_module": "@jupyter-widgets/controls",
          "model_name": "DescriptionStyleModel",
          "model_module_version": "1.5.0",
          "state": {
            "_model_module": "@jupyter-widgets/controls",
            "_model_module_version": "1.5.0",
            "_model_name": "DescriptionStyleModel",
            "_view_count": null,
            "_view_module": "@jupyter-widgets/base",
            "_view_module_version": "1.2.0",
            "_view_name": "StyleView",
            "description_width": ""
          }
        },
        "ae02d31088ae4d8494796a538186609b": {
          "model_module": "@jupyter-widgets/controls",
          "model_name": "HBoxModel",
          "model_module_version": "1.5.0",
          "state": {
            "_dom_classes": [],
            "_model_module": "@jupyter-widgets/controls",
            "_model_module_version": "1.5.0",
            "_model_name": "HBoxModel",
            "_view_count": null,
            "_view_module": "@jupyter-widgets/controls",
            "_view_module_version": "1.5.0",
            "_view_name": "HBoxView",
            "box_style": "",
            "children": [
              "IPY_MODEL_efa8d3dfad544850b9abbb5a00941f61",
              "IPY_MODEL_71d8ce95e9d64376871622e993f2f145",
              "IPY_MODEL_04faa0ec99184bef88edb175f5fba3c3"
            ],
            "layout": "IPY_MODEL_8658483519214491a3bb1556bc8b8e23"
          }
        },
        "efa8d3dfad544850b9abbb5a00941f61": {
          "model_module": "@jupyter-widgets/controls",
          "model_name": "HTMLModel",
          "model_module_version": "1.5.0",
          "state": {
            "_dom_classes": [],
            "_model_module": "@jupyter-widgets/controls",
            "_model_module_version": "1.5.0",
            "_model_name": "HTMLModel",
            "_view_count": null,
            "_view_module": "@jupyter-widgets/controls",
            "_view_module_version": "1.5.0",
            "_view_name": "HTMLView",
            "description": "",
            "description_tooltip": null,
            "layout": "IPY_MODEL_f6e01e41d2f545ddb361d3c4ceeb2d6c",
            "placeholder": "​",
            "style": "IPY_MODEL_9ea662f8dae3460fa967fc2a0e2f0d32",
            "value": "special_tokens_map.json: 100%"
          }
        },
        "71d8ce95e9d64376871622e993f2f145": {
          "model_module": "@jupyter-widgets/controls",
          "model_name": "FloatProgressModel",
          "model_module_version": "1.5.0",
          "state": {
            "_dom_classes": [],
            "_model_module": "@jupyter-widgets/controls",
            "_model_module_version": "1.5.0",
            "_model_name": "FloatProgressModel",
            "_view_count": null,
            "_view_module": "@jupyter-widgets/controls",
            "_view_module_version": "1.5.0",
            "_view_name": "ProgressView",
            "bar_style": "success",
            "description": "",
            "description_tooltip": null,
            "layout": "IPY_MODEL_d8b4b76fe2a24442b04f7e150265f2c8",
            "max": 964,
            "min": 0,
            "orientation": "horizontal",
            "style": "IPY_MODEL_7c8dc739cba4456d84f26454d7158e46",
            "value": 964
          }
        },
        "04faa0ec99184bef88edb175f5fba3c3": {
          "model_module": "@jupyter-widgets/controls",
          "model_name": "HTMLModel",
          "model_module_version": "1.5.0",
          "state": {
            "_dom_classes": [],
            "_model_module": "@jupyter-widgets/controls",
            "_model_module_version": "1.5.0",
            "_model_name": "HTMLModel",
            "_view_count": null,
            "_view_module": "@jupyter-widgets/controls",
            "_view_module_version": "1.5.0",
            "_view_name": "HTMLView",
            "description": "",
            "description_tooltip": null,
            "layout": "IPY_MODEL_cbdde11e70c043aba3c948e7d038ddcb",
            "placeholder": "​",
            "style": "IPY_MODEL_346f809374a44ba5adbca02100ffd3e2",
            "value": " 964/964 [00:00&lt;00:00, 45.2kB/s]"
          }
        },
        "8658483519214491a3bb1556bc8b8e23": {
          "model_module": "@jupyter-widgets/base",
          "model_name": "LayoutModel",
          "model_module_version": "1.2.0",
          "state": {
            "_model_module": "@jupyter-widgets/base",
            "_model_module_version": "1.2.0",
            "_model_name": "LayoutModel",
            "_view_count": null,
            "_view_module": "@jupyter-widgets/base",
            "_view_module_version": "1.2.0",
            "_view_name": "LayoutView",
            "align_content": null,
            "align_items": null,
            "align_self": null,
            "border": null,
            "bottom": null,
            "display": null,
            "flex": null,
            "flex_flow": null,
            "grid_area": null,
            "grid_auto_columns": null,
            "grid_auto_flow": null,
            "grid_auto_rows": null,
            "grid_column": null,
            "grid_gap": null,
            "grid_row": null,
            "grid_template_areas": null,
            "grid_template_columns": null,
            "grid_template_rows": null,
            "height": null,
            "justify_content": null,
            "justify_items": null,
            "left": null,
            "margin": null,
            "max_height": null,
            "max_width": null,
            "min_height": null,
            "min_width": null,
            "object_fit": null,
            "object_position": null,
            "order": null,
            "overflow": null,
            "overflow_x": null,
            "overflow_y": null,
            "padding": null,
            "right": null,
            "top": null,
            "visibility": null,
            "width": null
          }
        },
        "f6e01e41d2f545ddb361d3c4ceeb2d6c": {
          "model_module": "@jupyter-widgets/base",
          "model_name": "LayoutModel",
          "model_module_version": "1.2.0",
          "state": {
            "_model_module": "@jupyter-widgets/base",
            "_model_module_version": "1.2.0",
            "_model_name": "LayoutModel",
            "_view_count": null,
            "_view_module": "@jupyter-widgets/base",
            "_view_module_version": "1.2.0",
            "_view_name": "LayoutView",
            "align_content": null,
            "align_items": null,
            "align_self": null,
            "border": null,
            "bottom": null,
            "display": null,
            "flex": null,
            "flex_flow": null,
            "grid_area": null,
            "grid_auto_columns": null,
            "grid_auto_flow": null,
            "grid_auto_rows": null,
            "grid_column": null,
            "grid_gap": null,
            "grid_row": null,
            "grid_template_areas": null,
            "grid_template_columns": null,
            "grid_template_rows": null,
            "height": null,
            "justify_content": null,
            "justify_items": null,
            "left": null,
            "margin": null,
            "max_height": null,
            "max_width": null,
            "min_height": null,
            "min_width": null,
            "object_fit": null,
            "object_position": null,
            "order": null,
            "overflow": null,
            "overflow_x": null,
            "overflow_y": null,
            "padding": null,
            "right": null,
            "top": null,
            "visibility": null,
            "width": null
          }
        },
        "9ea662f8dae3460fa967fc2a0e2f0d32": {
          "model_module": "@jupyter-widgets/controls",
          "model_name": "DescriptionStyleModel",
          "model_module_version": "1.5.0",
          "state": {
            "_model_module": "@jupyter-widgets/controls",
            "_model_module_version": "1.5.0",
            "_model_name": "DescriptionStyleModel",
            "_view_count": null,
            "_view_module": "@jupyter-widgets/base",
            "_view_module_version": "1.2.0",
            "_view_name": "StyleView",
            "description_width": ""
          }
        },
        "d8b4b76fe2a24442b04f7e150265f2c8": {
          "model_module": "@jupyter-widgets/base",
          "model_name": "LayoutModel",
          "model_module_version": "1.2.0",
          "state": {
            "_model_module": "@jupyter-widgets/base",
            "_model_module_version": "1.2.0",
            "_model_name": "LayoutModel",
            "_view_count": null,
            "_view_module": "@jupyter-widgets/base",
            "_view_module_version": "1.2.0",
            "_view_name": "LayoutView",
            "align_content": null,
            "align_items": null,
            "align_self": null,
            "border": null,
            "bottom": null,
            "display": null,
            "flex": null,
            "flex_flow": null,
            "grid_area": null,
            "grid_auto_columns": null,
            "grid_auto_flow": null,
            "grid_auto_rows": null,
            "grid_column": null,
            "grid_gap": null,
            "grid_row": null,
            "grid_template_areas": null,
            "grid_template_columns": null,
            "grid_template_rows": null,
            "height": null,
            "justify_content": null,
            "justify_items": null,
            "left": null,
            "margin": null,
            "max_height": null,
            "max_width": null,
            "min_height": null,
            "min_width": null,
            "object_fit": null,
            "object_position": null,
            "order": null,
            "overflow": null,
            "overflow_x": null,
            "overflow_y": null,
            "padding": null,
            "right": null,
            "top": null,
            "visibility": null,
            "width": null
          }
        },
        "7c8dc739cba4456d84f26454d7158e46": {
          "model_module": "@jupyter-widgets/controls",
          "model_name": "ProgressStyleModel",
          "model_module_version": "1.5.0",
          "state": {
            "_model_module": "@jupyter-widgets/controls",
            "_model_module_version": "1.5.0",
            "_model_name": "ProgressStyleModel",
            "_view_count": null,
            "_view_module": "@jupyter-widgets/base",
            "_view_module_version": "1.2.0",
            "_view_name": "StyleView",
            "bar_color": null,
            "description_width": ""
          }
        },
        "cbdde11e70c043aba3c948e7d038ddcb": {
          "model_module": "@jupyter-widgets/base",
          "model_name": "LayoutModel",
          "model_module_version": "1.2.0",
          "state": {
            "_model_module": "@jupyter-widgets/base",
            "_model_module_version": "1.2.0",
            "_model_name": "LayoutModel",
            "_view_count": null,
            "_view_module": "@jupyter-widgets/base",
            "_view_module_version": "1.2.0",
            "_view_name": "LayoutView",
            "align_content": null,
            "align_items": null,
            "align_self": null,
            "border": null,
            "bottom": null,
            "display": null,
            "flex": null,
            "flex_flow": null,
            "grid_area": null,
            "grid_auto_columns": null,
            "grid_auto_flow": null,
            "grid_auto_rows": null,
            "grid_column": null,
            "grid_gap": null,
            "grid_row": null,
            "grid_template_areas": null,
            "grid_template_columns": null,
            "grid_template_rows": null,
            "height": null,
            "justify_content": null,
            "justify_items": null,
            "left": null,
            "margin": null,
            "max_height": null,
            "max_width": null,
            "min_height": null,
            "min_width": null,
            "object_fit": null,
            "object_position": null,
            "order": null,
            "overflow": null,
            "overflow_x": null,
            "overflow_y": null,
            "padding": null,
            "right": null,
            "top": null,
            "visibility": null,
            "width": null
          }
        },
        "346f809374a44ba5adbca02100ffd3e2": {
          "model_module": "@jupyter-widgets/controls",
          "model_name": "DescriptionStyleModel",
          "model_module_version": "1.5.0",
          "state": {
            "_model_module": "@jupyter-widgets/controls",
            "_model_module_version": "1.5.0",
            "_model_name": "DescriptionStyleModel",
            "_view_count": null,
            "_view_module": "@jupyter-widgets/base",
            "_view_module_version": "1.2.0",
            "_view_name": "StyleView",
            "description_width": ""
          }
        },
        "8f867f31eff247f2a2026dc3a9f6829b": {
          "model_module": "@jupyter-widgets/controls",
          "model_name": "HBoxModel",
          "model_module_version": "1.5.0",
          "state": {
            "_dom_classes": [],
            "_model_module": "@jupyter-widgets/controls",
            "_model_module_version": "1.5.0",
            "_model_name": "HBoxModel",
            "_view_count": null,
            "_view_module": "@jupyter-widgets/controls",
            "_view_module_version": "1.5.0",
            "_view_name": "HBoxView",
            "box_style": "",
            "children": [
              "IPY_MODEL_fce01942639b4920b70e5feb2c31ee4b",
              "IPY_MODEL_b9b4b633b49544959e45e6f2edac6515",
              "IPY_MODEL_49282ce6a80f404eaf40d803161442ad"
            ],
            "layout": "IPY_MODEL_40379c1135164b50aa4beb575ed74ea2"
          }
        },
        "fce01942639b4920b70e5feb2c31ee4b": {
          "model_module": "@jupyter-widgets/controls",
          "model_name": "HTMLModel",
          "model_module_version": "1.5.0",
          "state": {
            "_dom_classes": [],
            "_model_module": "@jupyter-widgets/controls",
            "_model_module_version": "1.5.0",
            "_model_name": "HTMLModel",
            "_view_count": null,
            "_view_module": "@jupyter-widgets/controls",
            "_view_module_version": "1.5.0",
            "_view_name": "HTMLView",
            "description": "",
            "description_tooltip": null,
            "layout": "IPY_MODEL_dfdf333e871b403cb5b7737120e98da4",
            "placeholder": "​",
            "style": "IPY_MODEL_d6d1efd69e274ebdaea2d4ee56f42680",
            "value": "config.json: 100%"
          }
        },
        "b9b4b633b49544959e45e6f2edac6515": {
          "model_module": "@jupyter-widgets/controls",
          "model_name": "FloatProgressModel",
          "model_module_version": "1.5.0",
          "state": {
            "_dom_classes": [],
            "_model_module": "@jupyter-widgets/controls",
            "_model_module_version": "1.5.0",
            "_model_name": "FloatProgressModel",
            "_view_count": null,
            "_view_module": "@jupyter-widgets/controls",
            "_view_module_version": "1.5.0",
            "_view_name": "ProgressView",
            "bar_style": "success",
            "description": "",
            "description_tooltip": null,
            "layout": "IPY_MODEL_301acf2c90ec476bb3c2a89cfb37bc1f",
            "max": 296,
            "min": 0,
            "orientation": "horizontal",
            "style": "IPY_MODEL_6689e6d09c2a41609c3c6f6af9ed9383",
            "value": 296
          }
        },
        "49282ce6a80f404eaf40d803161442ad": {
          "model_module": "@jupyter-widgets/controls",
          "model_name": "HTMLModel",
          "model_module_version": "1.5.0",
          "state": {
            "_dom_classes": [],
            "_model_module": "@jupyter-widgets/controls",
            "_model_module_version": "1.5.0",
            "_model_name": "HTMLModel",
            "_view_count": null,
            "_view_module": "@jupyter-widgets/controls",
            "_view_module_version": "1.5.0",
            "_view_name": "HTMLView",
            "description": "",
            "description_tooltip": null,
            "layout": "IPY_MODEL_6bdeafbf66b8495297d61aace1f3830f",
            "placeholder": "​",
            "style": "IPY_MODEL_31b3694af98446698e8be9ca245350b4",
            "value": " 296/296 [00:00&lt;00:00, 17.9kB/s]"
          }
        },
        "40379c1135164b50aa4beb575ed74ea2": {
          "model_module": "@jupyter-widgets/base",
          "model_name": "LayoutModel",
          "model_module_version": "1.2.0",
          "state": {
            "_model_module": "@jupyter-widgets/base",
            "_model_module_version": "1.2.0",
            "_model_name": "LayoutModel",
            "_view_count": null,
            "_view_module": "@jupyter-widgets/base",
            "_view_module_version": "1.2.0",
            "_view_name": "LayoutView",
            "align_content": null,
            "align_items": null,
            "align_self": null,
            "border": null,
            "bottom": null,
            "display": null,
            "flex": null,
            "flex_flow": null,
            "grid_area": null,
            "grid_auto_columns": null,
            "grid_auto_flow": null,
            "grid_auto_rows": null,
            "grid_column": null,
            "grid_gap": null,
            "grid_row": null,
            "grid_template_areas": null,
            "grid_template_columns": null,
            "grid_template_rows": null,
            "height": null,
            "justify_content": null,
            "justify_items": null,
            "left": null,
            "margin": null,
            "max_height": null,
            "max_width": null,
            "min_height": null,
            "min_width": null,
            "object_fit": null,
            "object_position": null,
            "order": null,
            "overflow": null,
            "overflow_x": null,
            "overflow_y": null,
            "padding": null,
            "right": null,
            "top": null,
            "visibility": null,
            "width": null
          }
        },
        "dfdf333e871b403cb5b7737120e98da4": {
          "model_module": "@jupyter-widgets/base",
          "model_name": "LayoutModel",
          "model_module_version": "1.2.0",
          "state": {
            "_model_module": "@jupyter-widgets/base",
            "_model_module_version": "1.2.0",
            "_model_name": "LayoutModel",
            "_view_count": null,
            "_view_module": "@jupyter-widgets/base",
            "_view_module_version": "1.2.0",
            "_view_name": "LayoutView",
            "align_content": null,
            "align_items": null,
            "align_self": null,
            "border": null,
            "bottom": null,
            "display": null,
            "flex": null,
            "flex_flow": null,
            "grid_area": null,
            "grid_auto_columns": null,
            "grid_auto_flow": null,
            "grid_auto_rows": null,
            "grid_column": null,
            "grid_gap": null,
            "grid_row": null,
            "grid_template_areas": null,
            "grid_template_columns": null,
            "grid_template_rows": null,
            "height": null,
            "justify_content": null,
            "justify_items": null,
            "left": null,
            "margin": null,
            "max_height": null,
            "max_width": null,
            "min_height": null,
            "min_width": null,
            "object_fit": null,
            "object_position": null,
            "order": null,
            "overflow": null,
            "overflow_x": null,
            "overflow_y": null,
            "padding": null,
            "right": null,
            "top": null,
            "visibility": null,
            "width": null
          }
        },
        "d6d1efd69e274ebdaea2d4ee56f42680": {
          "model_module": "@jupyter-widgets/controls",
          "model_name": "DescriptionStyleModel",
          "model_module_version": "1.5.0",
          "state": {
            "_model_module": "@jupyter-widgets/controls",
            "_model_module_version": "1.5.0",
            "_model_name": "DescriptionStyleModel",
            "_view_count": null,
            "_view_module": "@jupyter-widgets/base",
            "_view_module_version": "1.2.0",
            "_view_name": "StyleView",
            "description_width": ""
          }
        },
        "301acf2c90ec476bb3c2a89cfb37bc1f": {
          "model_module": "@jupyter-widgets/base",
          "model_name": "LayoutModel",
          "model_module_version": "1.2.0",
          "state": {
            "_model_module": "@jupyter-widgets/base",
            "_model_module_version": "1.2.0",
            "_model_name": "LayoutModel",
            "_view_count": null,
            "_view_module": "@jupyter-widgets/base",
            "_view_module_version": "1.2.0",
            "_view_name": "LayoutView",
            "align_content": null,
            "align_items": null,
            "align_self": null,
            "border": null,
            "bottom": null,
            "display": null,
            "flex": null,
            "flex_flow": null,
            "grid_area": null,
            "grid_auto_columns": null,
            "grid_auto_flow": null,
            "grid_auto_rows": null,
            "grid_column": null,
            "grid_gap": null,
            "grid_row": null,
            "grid_template_areas": null,
            "grid_template_columns": null,
            "grid_template_rows": null,
            "height": null,
            "justify_content": null,
            "justify_items": null,
            "left": null,
            "margin": null,
            "max_height": null,
            "max_width": null,
            "min_height": null,
            "min_width": null,
            "object_fit": null,
            "object_position": null,
            "order": null,
            "overflow": null,
            "overflow_x": null,
            "overflow_y": null,
            "padding": null,
            "right": null,
            "top": null,
            "visibility": null,
            "width": null
          }
        },
        "6689e6d09c2a41609c3c6f6af9ed9383": {
          "model_module": "@jupyter-widgets/controls",
          "model_name": "ProgressStyleModel",
          "model_module_version": "1.5.0",
          "state": {
            "_model_module": "@jupyter-widgets/controls",
            "_model_module_version": "1.5.0",
            "_model_name": "ProgressStyleModel",
            "_view_count": null,
            "_view_module": "@jupyter-widgets/base",
            "_view_module_version": "1.2.0",
            "_view_name": "StyleView",
            "bar_color": null,
            "description_width": ""
          }
        },
        "6bdeafbf66b8495297d61aace1f3830f": {
          "model_module": "@jupyter-widgets/base",
          "model_name": "LayoutModel",
          "model_module_version": "1.2.0",
          "state": {
            "_model_module": "@jupyter-widgets/base",
            "_model_module_version": "1.2.0",
            "_model_name": "LayoutModel",
            "_view_count": null,
            "_view_module": "@jupyter-widgets/base",
            "_view_module_version": "1.2.0",
            "_view_name": "LayoutView",
            "align_content": null,
            "align_items": null,
            "align_self": null,
            "border": null,
            "bottom": null,
            "display": null,
            "flex": null,
            "flex_flow": null,
            "grid_area": null,
            "grid_auto_columns": null,
            "grid_auto_flow": null,
            "grid_auto_rows": null,
            "grid_column": null,
            "grid_gap": null,
            "grid_row": null,
            "grid_template_areas": null,
            "grid_template_columns": null,
            "grid_template_rows": null,
            "height": null,
            "justify_content": null,
            "justify_items": null,
            "left": null,
            "margin": null,
            "max_height": null,
            "max_width": null,
            "min_height": null,
            "min_width": null,
            "object_fit": null,
            "object_position": null,
            "order": null,
            "overflow": null,
            "overflow_x": null,
            "overflow_y": null,
            "padding": null,
            "right": null,
            "top": null,
            "visibility": null,
            "width": null
          }
        },
        "31b3694af98446698e8be9ca245350b4": {
          "model_module": "@jupyter-widgets/controls",
          "model_name": "DescriptionStyleModel",
          "model_module_version": "1.5.0",
          "state": {
            "_model_module": "@jupyter-widgets/controls",
            "_model_module_version": "1.5.0",
            "_model_name": "DescriptionStyleModel",
            "_view_count": null,
            "_view_module": "@jupyter-widgets/base",
            "_view_module_version": "1.2.0",
            "_view_name": "StyleView",
            "description_width": ""
          }
        }
      }
    }
  },
  "cells": [
    {
      "cell_type": "markdown",
      "source": [
        "## \"Validating ICD-10 and Procedure Code Assignments Using NLP\""
      ],
      "metadata": {
        "id": "GG20lLTIAG8z"
      }
    },
    {
      "cell_type": "markdown",
      "source": [
        "## **Objective:** This project aims to validate diagnosis and procedure code relationships using clinical data from MIMIC-IV v3.1. We apply four NLP techniques—ICD-10 Prefix Matching, Semantic Similarity with BERT, Named Entity Recognition (NER), and N-gram Analysis—to analyze and align high-risk ICD-10 codes."
      ],
      "metadata": {
        "id": "u3ogvJs3AOq0"
      }
    },
    {
      "cell_type": "markdown",
      "source": [
        "## Load Data and Initial Setup of MIMIC IV Diagnosis and Procedure Codes"
      ],
      "metadata": {
        "id": "5KYvitQ7Aa9H"
      }
    },
    {
      "cell_type": "code",
      "source": [
        "%%capture\n",
        "!pip uninstall -y numpy scipy\n",
        "!pip install numpy==1.26.0 scipy==1.11.3 gensim==4.3.2"
      ],
      "metadata": {
        "id": "c5dcQ9lFdt5f"
      },
      "execution_count": 1,
      "outputs": []
    },
    {
      "cell_type": "code",
      "source": [
        "%%capture\n",
        "!pip install -U sentence-transformers\n",
        "!pip install hf_xet"
      ],
      "metadata": {
        "id": "5xEHapG4mC5p"
      },
      "execution_count": 15,
      "outputs": []
    },
    {
      "cell_type": "code",
      "source": [
        "from google.colab import drive\n",
        "drive.mount('/content/drive')"
      ],
      "metadata": {
        "colab": {
          "base_uri": "https://localhost:8080/"
        },
        "id": "nXqjP1wlfKI4",
        "outputId": "a6385d06-459f-4eac-d3e7-961852f2b5d3"
      },
      "execution_count": 1,
      "outputs": [
        {
          "output_type": "stream",
          "name": "stdout",
          "text": [
            "Mounted at /content/drive\n"
          ]
        }
      ]
    },
    {
      "cell_type": "code",
      "source": [
        "from gensim.models import KeyedVectors\n",
        "from google.colab import drive\n",
        "import gensim.downloader as api\n",
        "import os"
      ],
      "metadata": {
        "id": "YDbHZ6d3d8QL"
      },
      "execution_count": 2,
      "outputs": []
    },
    {
      "cell_type": "code",
      "source": [
        "# Check contents of the folder\n",
        "folder_path = '/content/drive/MyDrive/Project MIMIC IV'\n",
        "for file in os.listdir(folder_path):\n",
        "    print(file)"
      ],
      "metadata": {
        "colab": {
          "base_uri": "https://localhost:8080/"
        },
        "id": "sWisy83E7qVB",
        "outputId": "2f4d04e8-69c4-4ac8-da48-b3bd201140ae"
      },
      "execution_count": 3,
      "outputs": [
        {
          "output_type": "stream",
          "name": "stdout",
          "text": [
            "diagnoses_icd.csv\n",
            "procedures_icd.csv\n",
            "icd10pcs_codes_2025.txt\n",
            "icd10cm_codes_2025.txt\n"
          ]
        }
      ]
    },
    {
      "cell_type": "code",
      "execution_count": 4,
      "metadata": {
        "colab": {
          "base_uri": "https://localhost:8080/"
        },
        "id": "rkLxLgLdeWqB",
        "outputId": "3df2a218-2af8-4058-f007-221874cf71d5"
      },
      "outputs": [
        {
          "output_type": "stream",
          "name": "stdout",
          "text": [
            "   subject_id   hadm_id icd_code  icd_version  seq_num            admittime  \\\n",
            "0    11582633  25786218    Z8049           10       27  2144-10-31 17:30:00   \n",
            "1    11968004  22808249    M5417           10       27  2146-12-25 21:31:00   \n",
            "2    11968004  22808249     E669           10       28  2146-12-25 21:31:00   \n",
            "3    11968004  22808249    Z6835           10       29  2146-12-25 21:31:00   \n",
            "4    11968004  22808249     K219           10       30  2146-12-25 21:31:00   \n",
            "\n",
            "             dischtime          admission_type admission_location  \\\n",
            "0  2144-11-01 16:48:00  AMBULATORY OBSERVATION     PROCEDURE SITE   \n",
            "1  2146-12-26 18:25:00  AMBULATORY OBSERVATION               PACU   \n",
            "2  2146-12-26 18:25:00  AMBULATORY OBSERVATION               PACU   \n",
            "3  2146-12-26 18:25:00  AMBULATORY OBSERVATION               PACU   \n",
            "4  2146-12-26 18:25:00  AMBULATORY OBSERVATION               PACU   \n",
            "\n",
            "  discharge_location insurance                    race marital_status  \n",
            "0                NaN  Medicare  BLACK/AFRICAN AMERICAN         SINGLE  \n",
            "1                NaN  Medicare                   WHITE        WIDOWED  \n",
            "2                NaN  Medicare                   WHITE        WIDOWED  \n",
            "3                NaN  Medicare                   WHITE        WIDOWED  \n",
            "4                NaN  Medicare                   WHITE        WIDOWED  \n",
            "\n",
            "   subject_id   hadm_id icd_code  icd_version  seq_num            admittime  \\\n",
            "0    10074908  27875313  00160J6           10        1  2164-07-27 03:44:00   \n",
            "1    10347675  20850856  00160J6           10        1  2183-06-18 02:21:00   \n",
            "2    10353722  23813607  00160J6           10        1  2177-01-23 18:16:00   \n",
            "3    11128068  26915217  00160J6           10        1  2181-02-22 04:45:00   \n",
            "4    11272192  23979791  00160J6           10        1  2166-10-06 00:35:00   \n",
            "\n",
            "             dischtime               admission_type      admission_location  \\\n",
            "0  2164-08-02 14:20:00  SURGICAL SAME DAY ADMISSION      PHYSICIAN REFERRAL   \n",
            "1  2183-06-29 11:48:00                     EW EMER.  TRANSFER FROM HOSPITAL   \n",
            "2  2177-03-11 16:40:00            OBSERVATION ADMIT      PHYSICIAN REFERRAL   \n",
            "3  2181-03-14 12:33:00  SURGICAL SAME DAY ADMISSION      PHYSICIAN REFERRAL   \n",
            "4  2166-10-10 17:25:00                     EW EMER.          EMERGENCY ROOM   \n",
            "\n",
            "             discharge_location insurance             race marital_status  \n",
            "0                         REHAB  Medicare  ASIAN - CHINESE        MARRIED  \n",
            "1  CHRONIC/LONG TERM ACUTE CARE   Private            WHITE       DIVORCED  \n",
            "2                       HOSPICE  Medicare            WHITE        MARRIED  \n",
            "3                         REHAB  Medicare            OTHER         SINGLE  \n",
            "4                          HOME   Private          UNKNOWN         SINGLE  \n"
          ]
        }
      ],
      "source": [
        "import pandas as pd\n",
        "\n",
        "path_to_csv1 = '/content/drive/MyDrive/Project MIMIC IV/diagnoses_icd.csv'\n",
        "diagnoses_df = pd.read_csv(path_to_csv1)\n",
        "\n",
        "path_to_csv2 = '/content/drive/MyDrive/Project MIMIC IV/procedures_icd.csv'\n",
        "procedures_df = pd.read_csv(path_to_csv2)\n",
        "\n",
        "\n",
        "# View first few rows\n",
        "print(diagnoses_df.head())\n",
        "print()\n",
        "print(procedures_df.head())"
      ]
    },
    {
      "cell_type": "markdown",
      "source": [
        "## Data Cleaning and Formatting"
      ],
      "metadata": {
        "id": "4IGgw_SQAhah"
      }
    },
    {
      "cell_type": "code",
      "source": [
        "# 1. Remove any duplicates\n",
        "diagnoses_df.drop_duplicates(inplace=True)\n",
        "procedures_df.drop_duplicates(inplace=True)\n",
        "\n",
        "# 2. Standardize and clean ICD codes\n",
        "def clean_icd_code(code):\n",
        "    if isinstance(code, str):\n",
        "        return code.replace(\".\", \"\").strip().upper()\n",
        "    return code\n",
        "\n",
        "diagnoses_df[\"icd_code\"] = diagnoses_df[\"icd_code\"].apply(clean_icd_code)\n",
        "procedures_df[\"icd_code\"] = procedures_df[\"icd_code\"].apply(clean_icd_code)\n",
        "\n",
        "# 3. Check shape\n",
        "print(\"Diagnoses shape:\", diagnoses_df.shape)\n",
        "print(\"Procedures shape:\", procedures_df.shape)\n",
        "\n",
        "# Optional: view a few rows to verify\n",
        "print(\"\\nCleaned Diagnoses Sample:\\n\", diagnoses_df[\"icd_code\"].head())\n",
        "print(\"\\nCleaned Procedures Sample:\\n\", procedures_df[\"icd_code\"].head())"
      ],
      "metadata": {
        "colab": {
          "base_uri": "https://localhost:8080/"
        },
        "id": "Lhs_basgywHR",
        "outputId": "67892b88-4abe-46b6-e9ba-4ebebd6c72e0"
      },
      "execution_count": 5,
      "outputs": [
        {
          "output_type": "stream",
          "name": "stdout",
          "text": [
            "Diagnoses shape: (3455747, 13)\n",
            "Procedures shape: (390446, 13)\n",
            "\n",
            "Cleaned Diagnoses Sample:\n",
            " 0    Z8049\n",
            "1    M5417\n",
            "2     E669\n",
            "3    Z6835\n",
            "4     K219\n",
            "Name: icd_code, dtype: object\n",
            "\n",
            "Cleaned Procedures Sample:\n",
            " 0    00160J6\n",
            "1    00160J6\n",
            "2    00160J6\n",
            "3    00160J6\n",
            "4    00160J6\n",
            "Name: icd_code, dtype: object\n"
          ]
        }
      ]
    },
    {
      "cell_type": "markdown",
      "source": [
        "## Define High-Risk Diagnoses and Procedures"
      ],
      "metadata": {
        "id": "YDmDBKlrsrwD"
      }
    },
    {
      "cell_type": "code",
      "source": [
        "high_risk_diagnoses = [\n",
        "    \"A419\",   # Sepsis\n",
        "    \"I213\",   # Acute Myocardial Infarction\n",
        "    \"J189\",   # Pneumonia, unspecified\n",
        "    \"I639\"    # Stroke, unspecified\n",
        "]\n",
        "\n",
        "\n",
        "high_risk_procedures = [\n",
        "    \"021009W\",  # CABG\n",
        "    \"0SRD0J9\",  # Knee replacement\n",
        "    \"0DTJ4ZZ\",  # Appendectomy\n",
        "    \"5A1221Z\",  # Mechanical Ventilation\n",
        "    \"5A1D70Z\",  # Hemodialysis\n",
        "    \"0D160Z3\",  # Colon Resection\n",
        "    \"0W9G3ZZ\"   # Drainage of body cavity\n",
        "]"
      ],
      "metadata": {
        "id": "EjOzKySViCBx"
      },
      "execution_count": 6,
      "outputs": []
    },
    {
      "cell_type": "markdown",
      "source": [
        "## Filtering the DataFrames"
      ],
      "metadata": {
        "id": "sJ3yOKRbs34G"
      }
    },
    {
      "cell_type": "code",
      "source": [
        "# Filter diagnoses\n",
        "filtered_diagnoses_df = diagnoses_df[diagnoses_df[\"icd_code\"].isin(high_risk_diagnoses)]\n",
        "\n",
        "# Filter procedures\n",
        "filtered_procedures_df = procedures_df[procedures_df[\"icd_code\"].isin(high_risk_procedures)]\n",
        "\n",
        "# Output the shapes\n",
        "print(\"Filtered Diagnoses Shape:\", filtered_diagnoses_df.shape)\n",
        "print(\"Filtered Procedures Shape:\", filtered_procedures_df.shape)\n",
        "\n",
        "# Display first few rows\n",
        "print(\"\\nFiltered Diagnoses Sample:\\n\", filtered_diagnoses_df.head())\n",
        "print(\"\\nFiltered Procedures Sample:\\n\", filtered_procedures_df.head())"
      ],
      "metadata": {
        "id": "kWblWojtiG2S",
        "colab": {
          "base_uri": "https://localhost:8080/"
        },
        "outputId": "1c137128-c032-42e2-c131-674e44d5cf29"
      },
      "execution_count": 7,
      "outputs": [
        {
          "output_type": "stream",
          "name": "stdout",
          "text": [
            "Filtered Diagnoses Shape: (18507, 13)\n",
            "Filtered Procedures Shape: (17247, 13)\n",
            "\n",
            "Filtered Diagnoses Sample:\n",
            "        subject_id   hadm_id icd_code  icd_version  seq_num  \\\n",
            "3462     18535322  29633191     J189           10        4   \n",
            "13781    10063460  27699140     A419           10        1   \n",
            "13811    10127469  21644595     A419           10        1   \n",
            "13836    10160622  21082262     A419           10        1   \n",
            "13855    10177348  21976241     A419           10        1   \n",
            "\n",
            "                 admittime            dischtime          admission_type  \\\n",
            "3462   2160-10-09 14:27:00  2160-10-10 19:15:00  AMBULATORY OBSERVATION   \n",
            "13781  2175-01-05 17:06:00  2175-01-23 20:25:00            DIRECT EMER.   \n",
            "13811  2162-09-18 17:24:00  2162-10-10 14:55:00            DIRECT EMER.   \n",
            "13836  2180-04-21 09:55:00  2180-05-13 18:14:00            DIRECT EMER.   \n",
            "13855  2179-11-08 18:35:00  2179-11-17 02:45:00            DIRECT EMER.   \n",
            "\n",
            "       admission_location        discharge_location insurance  \\\n",
            "3462       PROCEDURE SITE                       NaN  Medicare   \n",
            "13781     CLINIC REFERRAL            OTHER FACILITY     Other   \n",
            "13811  PHYSICIAN REFERRAL  SKILLED NURSING FACILITY  Medicare   \n",
            "13836  PHYSICIAN REFERRAL  SKILLED NURSING FACILITY  Medicare   \n",
            "13855  PHYSICIAN REFERRAL                      DIED  Medicare   \n",
            "\n",
            "                          race marital_status  \n",
            "3462                     WHITE         SINGLE  \n",
            "13781  HISPANIC/LATINO - CUBAN            NaN  \n",
            "13811                    WHITE        MARRIED  \n",
            "13836                    WHITE         SINGLE  \n",
            "13855                  UNKNOWN            NaN  \n",
            "\n",
            "Filtered Procedures Sample:\n",
            "       subject_id   hadm_id icd_code  icd_version  seq_num  \\\n",
            "5370    10002667  23197839  021009W           10        1   \n",
            "5371    10031316  27575109  021009W           10        1   \n",
            "5372    10085667  27382550  021009W           10        1   \n",
            "5373    10109956  24875647  021009W           10        1   \n",
            "5374    10187866  27483857  021009W           10        1   \n",
            "\n",
            "                admittime            dischtime               admission_type  \\\n",
            "5370  2187-02-23 16:01:00  2187-02-28 16:00:00            OBSERVATION ADMIT   \n",
            "5371  2112-01-12 15:46:00  2112-01-19 22:29:00                     EW EMER.   \n",
            "5372  2192-12-11 19:38:00  2192-12-19 17:30:00            OBSERVATION ADMIT   \n",
            "5373  2184-08-13 00:00:00  2184-08-25 19:09:00  SURGICAL SAME DAY ADMISSION   \n",
            "5374  2128-04-24 14:24:00  2128-05-03 16:30:00                       URGENT   \n",
            "\n",
            "          admission_location        discharge_location insurance     race  \\\n",
            "5370      PHYSICIAN REFERRAL          HOME HEALTH CARE   Private    WHITE   \n",
            "5371          EMERGENCY ROOM          HOME HEALTH CARE  Medicaid  UNKNOWN   \n",
            "5372      PHYSICIAN REFERRAL          HOME HEALTH CARE   Private    WHITE   \n",
            "5373      PHYSICIAN REFERRAL          HOME HEALTH CARE   Private  UNKNOWN   \n",
            "5374  TRANSFER FROM HOSPITAL  SKILLED NURSING FACILITY  Medicaid    WHITE   \n",
            "\n",
            "     marital_status  \n",
            "5370            NaN  \n",
            "5371       DIVORCED  \n",
            "5372        MARRIED  \n",
            "5373        MARRIED  \n",
            "5374        MARRIED  \n"
          ]
        }
      ]
    },
    {
      "cell_type": "markdown",
      "source": [
        "## Known Diagnosis–Procedure Pairs"
      ],
      "metadata": {
        "id": "mGhvlbH6tTh2"
      }
    },
    {
      "cell_type": "code",
      "source": [
        "print(\"Top ICD Prefixes in Diagnoses:\")\n",
        "print(filtered_diagnoses_df[\"icd_code\"].str.replace(\".\", \"\", regex=False).str[:3].value_counts().head(10))\n",
        "\n",
        "print(\"\\nTop ICD Prefixes in Procedures:\")\n",
        "print(filtered_procedures_df[\"icd_code\"].str.replace(\".\", \"\", regex=False).str[:3].value_counts().head(10))"
      ],
      "metadata": {
        "colab": {
          "base_uri": "https://localhost:8080/"
        },
        "id": "AzN2svcEt9jL",
        "outputId": "cd748fcb-dacc-4004-dda4-f402b1dbce21"
      },
      "execution_count": 8,
      "outputs": [
        {
          "output_type": "stream",
          "name": "stdout",
          "text": [
            "Top ICD Prefixes in Diagnoses:\n",
            "icd_code\n",
            "J18    9415\n",
            "A41    7770\n",
            "I63    1078\n",
            "I21     244\n",
            "Name: count, dtype: int64\n",
            "\n",
            "Top ICD Prefixes in Procedures:\n",
            "icd_code\n",
            "5A1    10325\n",
            "0W9     5202\n",
            "021      752\n",
            "0SR      688\n",
            "0DT      280\n",
            "Name: count, dtype: int64\n"
          ]
        }
      ]
    },
    {
      "cell_type": "markdown",
      "source": [
        "## Visualization 1: Top ICD-10 Prefix Matching Bar graph"
      ],
      "metadata": {
        "id": "XNHpv0FfXVf7"
      }
    },
    {
      "cell_type": "code",
      "source": [
        "import pandas as pd\n",
        "import matplotlib.pyplot as plt\n",
        "\n",
        "# Original data\n",
        "diagnosis_prefix_counts = {\n",
        "    'J18': 9415,\n",
        "    'A41': 7770,\n",
        "    'I63': 1078,\n",
        "    'I21': 244\n",
        "}\n",
        "\n",
        "procedure_prefix_counts = {\n",
        "    '5A1': 10325,\n",
        "    '0W9': 5202,\n",
        "    '021': 752,\n",
        "    '0SR': 688,\n",
        "    '0DT': 280\n",
        "}\n",
        "\n",
        "# Create separate dataframes\n",
        "diag_df = pd.DataFrame(list(diagnosis_prefix_counts.items()), columns=[\"Prefix\", \"Count\"])\n",
        "diag_df[\"Type\"] = \"Diagnoses\"\n",
        "\n",
        "proc_df = pd.DataFrame(list(procedure_prefix_counts.items()), columns=[\"Prefix\", \"Count\"])\n",
        "proc_df[\"Type\"] = \"Procedures\"\n",
        "\n",
        "# Combine and sort\n",
        "combined_df = pd.concat([diag_df, proc_df], ignore_index=True)\n",
        "\n",
        "# Create a combined label for each bar (to use as x-axis tick)\n",
        "combined_df[\"Label\"] = combined_df[\"Prefix\"] + \"\\n(\" + combined_df[\"Type\"].str[:4] + \")\"\n",
        "\n",
        "# Plot\n",
        "plt.figure(figsize=(12, 6))\n",
        "bars = plt.bar(combined_df[\"Label\"], combined_df[\"Count\"], color=[\"tab:blue\" if t == \"Diagnoses\" else \"tab:orange\" for t in combined_df[\"Type\"]])\n",
        "\n",
        "# Add value labels on top of bars\n",
        "for bar in bars:\n",
        "    height = bar.get_height()\n",
        "    plt.text(bar.get_x() + bar.get_width()/2, height + 100, f'{int(height)}', ha='center', va='bottom', fontsize=8)\n",
        "\n",
        "# Styling\n",
        "plt.xlabel(\"ICD-10 Code Prefix\")\n",
        "plt.ylabel(\"Frequency\")\n",
        "plt.title(\"ICD-10 Prefix Frequencies by Type\")\n",
        "plt.tight_layout()\n",
        "plt.show()\n"
      ],
      "metadata": {
        "colab": {
          "base_uri": "https://localhost:8080/",
          "height": 607
        },
        "id": "HXJivj5wXWab",
        "outputId": "359424a0-6ddf-486f-aafd-f6361ed487f5"
      },
      "execution_count": 9,
      "outputs": [
        {
          "output_type": "display_data",
          "data": {
            "text/plain": [
              "<Figure size 1200x600 with 1 Axes>"
            ],
            "image/png": "[encoded data removed]"
          },
          "metadata": {}
        }
      ]
    },
    {
      "cell_type": "markdown",
      "source": [
        "## Technique 1: ICD-10 Prefix Matching (Information Extraction)"
      ],
      "metadata": {
        "id": "sMFwOOU3DChU"
      }
    },
    {
      "cell_type": "markdown",
      "source": [
        "## Filter Matching Diagnosis–Procedure Pairs"
      ],
      "metadata": {
        "id": "V-eNslXauoHV"
      }
    },
    {
      "cell_type": "code",
      "source": [
        "filtered_diagnoses_clean = filtered_diagnoses_df.copy()\n",
        "filtered_procedures_clean = filtered_procedures_df.copy()\n",
        "\n",
        "# Normalize ICD codes (remove dots)\n",
        "filtered_diagnoses_clean[\"clean_icd\"] = filtered_diagnoses_clean[\"icd_code\"].str.replace(\".\", \"\", regex=False)\n",
        "filtered_procedures_clean[\"clean_icd\"] = filtered_procedures_clean[\"icd_code\"].str.replace(\".\", \"\", regex=False)\n",
        "\n",
        "# Merge diagnoses and procedures on subject_id and hadm_id\n",
        "merged_df = pd.merge(\n",
        "    filtered_diagnoses_clean[[\"subject_id\", \"hadm_id\", \"clean_icd\"]],\n",
        "    filtered_procedures_clean[[\"subject_id\", \"hadm_id\", \"clean_icd\"]],\n",
        "    on=[\"subject_id\", \"hadm_id\"],\n",
        "    suffixes=(\"_dx\", \"_px\")\n",
        ")\n",
        "\n",
        "# Sample diagnosis-to-procedure code mappings\n",
        "icd_mappings = {\n",
        "    \"I213\": [\"021009W\", \"0SRD0J9\"],     # AMI → CABG or heart surgery\n",
        "    \"I63\": [\"03CG3ZZ\"],                 # Stroke → Thrombectomy\n",
        "    \"J189\": [\"5A1955Z\"],                # Pneumonia → Mechanical Ventilation\n",
        "    \"A419\": [\"0DTJ4ZZ\", \"5A1221Z\"],     # Sepsis → Central Line, Continuous ventilation\n",
        "}\n",
        "\n",
        "# Function to validate mapping\n",
        "def is_valid_pair(row):\n",
        "    return row[\"clean_icd_dx\"] in icd_mappings and row[\"clean_icd_px\"] in icd_mappings[row[\"clean_icd_dx\"]]\n",
        "\n",
        "# Apply validation\n",
        "merged_df[\"valid_mapping\"] = merged_df.apply(is_valid_pair, axis=1)\n",
        "\n",
        "# Filter to only valid pairs\n",
        "valid_pairs_df = merged_df[merged_df[\"valid_mapping\"] == True]\n",
        "\n",
        "# Output\n",
        "print(\"Sample Valid ICD Code Mappings:\\n\", valid_pairs_df.head())\n",
        "print(\"Total Valid Matches Found:\", valid_pairs_df.shape[0])"
      ],
      "metadata": {
        "colab": {
          "base_uri": "https://localhost:8080/"
        },
        "id": "Tl73XUBmukEF",
        "outputId": "b3270284-2e12-4042-a17e-ae5598f83266"
      },
      "execution_count": 10,
      "outputs": [
        {
          "output_type": "stream",
          "name": "stdout",
          "text": [
            "Sample Valid ICD Code Mappings:\n",
            "      subject_id   hadm_id clean_icd_dx clean_icd_px  valid_mapping\n",
            "2      11749987  22053731         I213      021009W           True\n",
            "30     11721074  27570992         A419      5A1221Z           True\n",
            "66     12864445  22385273         A419      5A1221Z           True\n",
            "86     16123216  21307155         A419      5A1221Z           True\n",
            "104    14028670  23763603         A419      5A1221Z           True\n",
            "Total Valid Matches Found: 105\n"
          ]
        }
      ]
    },
    {
      "cell_type": "markdown",
      "source": [
        "## Visualization 2: Bar graph of ICD-10 Diagnosis and Procedure Frequency mapping"
      ],
      "metadata": {
        "id": "EIgDa7APFEmC"
      }
    },
    {
      "cell_type": "code",
      "source": [
        "import matplotlib.pyplot as plt\n",
        "\n",
        "# Count frequencies by diagnosis code\n",
        "dx_counts = valid_pairs_df[\"clean_icd_dx\"].value_counts().reset_index()\n",
        "dx_counts.columns = [\"Diagnosis Code\", \"Frequency\"]\n",
        "\n",
        "# Define custom colors (light and varied for visual clarity)\n",
        "custom_colors = [\"#66c2a5\", \"#fc8d62\", \"#8da0cb\", \"#e78ac3\"]\n",
        "\n",
        "# Pie chart with better aesthetics\n",
        "plt.figure(figsize=(8, 6))\n",
        "patches, texts, autotexts = plt.pie(\n",
        "    dx_counts[\"Frequency\"],\n",
        "    labels=dx_counts[\"Diagnosis Code\"],\n",
        "    autopct='%1.1f%%',\n",
        "    startangle=140,\n",
        "    colors=custom_colors[:len(dx_counts)],\n",
        "    wedgeprops={'edgecolor': 'black'}\n",
        ")\n",
        "\n",
        "# Make labels and percentages more readable\n",
        "for text in texts:\n",
        "    text.set_fontsize(12)\n",
        "for autotext in autotexts:\n",
        "    autotext.set_fontsize(12)\n",
        "    autotext.set_color('black')\n",
        "\n",
        "plt.title(\"Proportion of Valid Diagnosis–Procedure Mappings\", fontsize=14)\n",
        "plt.tight_layout()\n",
        "plt.show()"
      ],
      "metadata": {
        "colab": {
          "base_uri": "https://localhost:8080/",
          "height": 607
        },
        "id": "o9g4xnIjBjLM",
        "outputId": "6d90a4d8-5252-4717-e5ab-be18ae8ece4e"
      },
      "execution_count": 11,
      "outputs": [
        {
          "output_type": "display_data",
          "data": {
            "text/plain": [
              "<Figure size 800x600 with 1 Axes>"
            ],
            "image/png": "[encoded data removed]"
          },
          "metadata": {}
        }
      ]
    },
    {
      "cell_type": "markdown",
      "source": [
        "## Loading the list of ICD-10 CM & PCS Codes with description from CMS"
      ],
      "metadata": {
        "id": "5xaON_HJ82nG"
      }
    },
    {
      "cell_type": "code",
      "source": [
        "# Loading CMS ICD-10 CM & PCS Complete List of Codes and Descriptions\n",
        "with open('/content/drive/MyDrive/Project MIMIC IV/icd10cm_codes_2025.txt', 'r') as f:\n",
        "    cm_lines = f.readlines()\n",
        "\n",
        "with open('/content/drive/MyDrive/Project MIMIC IV/icd10pcs_codes_2025.txt', 'r') as f:\n",
        "    pcs_lines = f.readlines()\n",
        "\n",
        "# Split based on the first space (you can adjust if needed)\n",
        "cm_data = [line.strip().split(None, 1) for line in cm_lines if line.strip()]\n",
        "pcs_data = [line.strip().split(None, 1) for line in pcs_lines if line.strip()]\n",
        "\n",
        "# Convert to DataFrame\n",
        "cm_df = pd.DataFrame(cm_data, columns=['icd_code', 'description'])\n",
        "pcs_df = pd.DataFrame(pcs_data, columns=['icd_code', 'description'])\n",
        "\n",
        "# View samples\n",
        "print(\"CM Sample:\")\n",
        "print(cm_df.head())\n",
        "\n",
        "print(\"\\nPCS Sample:\")\n",
        "print(pcs_df.head())"
      ],
      "metadata": {
        "colab": {
          "base_uri": "https://localhost:8080/"
        },
        "id": "iOqZCedm5P33",
        "outputId": "94574582-333e-4a92-cb46-45a1fa33e02b"
      },
      "execution_count": 12,
      "outputs": [
        {
          "output_type": "stream",
          "name": "stdout",
          "text": [
            "CM Sample:\n",
            "  icd_code                                        description\n",
            "0     A000  Cholera due to Vibrio cholerae 01, biovar chol...\n",
            "1     A001    Cholera due to Vibrio cholerae 01, biovar eltor\n",
            "2     A009                               Cholera, unspecified\n",
            "3    A0100                         Typhoid fever, unspecified\n",
            "4    A0101                                 Typhoid meningitis\n",
            "\n",
            "PCS Sample:\n",
            "  icd_code                                        description\n",
            "0  0016070  Bypass Cerebral Ventricle to Nasopharynx with ...\n",
            "1  0016071  Bypass Cerebral Ventricle to Mastoid Sinus wit...\n",
            "2  0016072  Bypass Cerebral Ventricle to Atrium with Autol...\n",
            "3  0016073  Bypass Cerebral Ventricle to Blood Vessel with...\n",
            "4  0016074  Bypass Cerebral Ventricle to Pleural Cavity wi...\n"
          ]
        }
      ]
    },
    {
      "cell_type": "markdown",
      "source": [
        "## Cosine similarity Top 3 Matches for High-risk diagnoses"
      ],
      "metadata": {
        "id": "XuopKfREQBb0"
      }
    },
    {
      "cell_type": "code",
      "source": [
        "from sklearn.feature_extraction.text import TfidfVectorizer\n",
        "from sklearn.metrics.pairwise import cosine_similarity\n",
        "\n",
        "# Filter only relevant diagnoses from the previously gathered sample\n",
        "query_codes = ['A419', 'I213', 'J189', 'I639']  # Sepsis, AMI, Pneumonia, Stroke\n",
        "query_df = cm_df[cm_df['icd_code'].isin(query_codes)]\n",
        "\n",
        "# Prepare corpus\n",
        "corpus = pcs_df['description'].tolist()\n",
        "queries = query_df['description'].tolist()\n",
        "\n",
        "# Fit TF-IDF vectorizer\n",
        "vectorizer = TfidfVectorizer()\n",
        "tfidf_matrix = vectorizer.fit_transform(corpus + queries)\n",
        "\n",
        "# Separate embeddings\n",
        "pcs_tfidf = tfidf_matrix[:len(corpus)]\n",
        "query_tfidf = tfidf_matrix[len(corpus):]\n",
        "\n",
        "# Calculate similarities\n",
        "similarities = cosine_similarity(query_tfidf, pcs_tfidf)\n",
        "\n",
        "# Display top 3 matches for each query\n",
        "for i, code in enumerate(query_codes):\n",
        "    print(f\"\\nTop 3 Procedure Matches for Diagnosis '{code}':\")\n",
        "    top_indices = similarities[i].argsort()[-3:][::-1]\n",
        "    for rank, idx in enumerate(top_indices, 1):\n",
        "        print(f\"{rank}. {pcs_df.iloc[idx]['icd_code']}: {pcs_df.iloc[idx]['description']}\")"
      ],
      "metadata": {
        "id": "Ht4dCLGO5P1I",
        "colab": {
          "base_uri": "https://localhost:8080/"
        },
        "outputId": "0a1a8e86-68a9-42bc-8569-576a039bd540"
      },
      "execution_count": 13,
      "outputs": [
        {
          "output_type": "stream",
          "name": "stdout",
          "text": [
            "\n",
            "Top 3 Procedure Matches for Diagnosis 'A419':\n",
            "1. 30233G4: Transfusion of Allogeneic Unspecified Bone Marrow into Peripheral Vein, Percutaneous Approach\n",
            "2. 30243G4: Transfusion of Allogeneic Unspecified Bone Marrow into Central Vein, Percutaneous Approach\n",
            "3. 30233Y4: Transfusion of Allogeneic Unspecified Hematopoietic Stem Cells into Peripheral Vein, Percutaneous Approach\n",
            "\n",
            "Top 3 Procedure Matches for Diagnosis 'I213':\n",
            "1. 02RH38M: Replacement of Pulmonary Valve with Zooplastic Tissue, Native Site, Percutaneous Approach\n",
            "2. 30233G4: Transfusion of Allogeneic Unspecified Bone Marrow into Peripheral Vein, Percutaneous Approach\n",
            "3. 30243G4: Transfusion of Allogeneic Unspecified Bone Marrow into Central Vein, Percutaneous Approach\n",
            "\n",
            "Top 3 Procedure Matches for Diagnosis 'J189':\n",
            "1. 30233G4: Transfusion of Allogeneic Unspecified Bone Marrow into Peripheral Vein, Percutaneous Approach\n",
            "2. 30243G4: Transfusion of Allogeneic Unspecified Bone Marrow into Central Vein, Percutaneous Approach\n",
            "3. 00163ZB: Bypass Cerebral Ventricle to Cerebral Cisterns, Percutaneous Approach\n",
            "\n",
            "Top 3 Procedure Matches for Diagnosis 'I639':\n",
            "1. 30233G4: Transfusion of Allogeneic Unspecified Bone Marrow into Peripheral Vein, Percutaneous Approach\n",
            "2. 30243G4: Transfusion of Allogeneic Unspecified Bone Marrow into Central Vein, Percutaneous Approach\n",
            "3. 30233Y4: Transfusion of Allogeneic Unspecified Hematopoietic Stem Cells into Peripheral Vein, Percutaneous Approach\n"
          ]
        }
      ]
    },
    {
      "cell_type": "code",
      "source": [
        "# Filter PCS descriptions to relevant ones only\n",
        "keywords = ['cardiac', 'heart', 'bypass', 'lung', 'respiratory', 'brain', 'stroke', 'ventilation', 'intubation', 'infection']\n",
        "pcs_relevant_df = pcs_df[pcs_df['description'].str.lower().str.contains('|'.join(keywords))]\n",
        "\n",
        "# Re-run the TF-IDF logic\n",
        "corpus = pcs_relevant_df['description'].tolist()\n",
        "queries = query_df['description'].tolist()\n",
        "\n",
        "vectorizer = TfidfVectorizer()\n",
        "tfidf_matrix = vectorizer.fit_transform(corpus + queries)\n",
        "\n",
        "pcs_tfidf = tfidf_matrix[:len(corpus)]\n",
        "query_tfidf = tfidf_matrix[len(corpus):]\n",
        "\n",
        "similarities = cosine_similarity(query_tfidf, pcs_tfidf)\n",
        "\n",
        "# Show improved results\n",
        "for i, code in enumerate(query_codes):\n",
        "    print(f\"\\nTop 3 Procedure Matches for Diagnosis '{code}':\")\n",
        "    top_indices = similarities[i].argsort()[-3:][::-1]\n",
        "    for rank, idx in enumerate(top_indices, 1):\n",
        "        print(f\"{rank}. {pcs_relevant_df.iloc[idx]['icd_code']}: {pcs_relevant_df.iloc[idx]['description']}\")\n"
      ],
      "metadata": {
        "id": "UfmMgV5F5PyH",
        "colab": {
          "base_uri": "https://localhost:8080/"
        },
        "outputId": "cfadd34f-49a4-4637-dbf0-160d631c49aa"
      },
      "execution_count": 14,
      "outputs": [
        {
          "output_type": "stream",
          "name": "stdout",
          "text": [
            "\n",
            "Top 3 Procedure Matches for Diagnosis 'A419':\n",
            "1. XXE5XN6: Measurement of Infection, Positive Blood Culture Fluorescence Hybridization for Organism Identification, Concentration and Susceptibility, New Technology Group 6\n",
            "2. XXEBXQ6: Measurement of Infection, Lower Respiratory Fluid Nucleic Acid-base Microbial Detection, New Technology Group 6\n",
            "3. 041D4AH: Bypass Left Common Iliac Artery to Right Femoral Artery with Autologous Arterial Tissue, Percutaneous Endoscopic Approach\n",
            "\n",
            "Top 3 Procedure Matches for Diagnosis 'I213':\n",
            "1. 0B9K0ZZ: Drainage of Right Lung, Open Approach\n",
            "2. 0B9L0ZZ: Drainage of Left Lung, Open Approach\n",
            "3. 0B9K3ZZ: Drainage of Right Lung, Percutaneous Approach\n",
            "\n",
            "Top 3 Procedure Matches for Diagnosis 'J189':\n",
            "1. 00160ZB: Bypass Cerebral Ventricle to Cerebral Cisterns, Open Approach\n",
            "2. 00163ZB: Bypass Cerebral Ventricle to Cerebral Cisterns, Percutaneous Approach\n",
            "3. 00164ZB: Bypass Cerebral Ventricle to Cerebral Cisterns, Percutaneous Endoscopic Approach\n",
            "\n",
            "Top 3 Procedure Matches for Diagnosis 'I639':\n",
            "1. XXE5XN6: Measurement of Infection, Positive Blood Culture Fluorescence Hybridization for Organism Identification, Concentration and Susceptibility, New Technology Group 6\n",
            "2. XXEBXQ6: Measurement of Infection, Lower Respiratory Fluid Nucleic Acid-base Microbial Detection, New Technology Group 6\n",
            "3. 041D4AH: Bypass Left Common Iliac Artery to Right Femoral Artery with Autologous Arterial Tissue, Percutaneous Endoscopic Approach\n"
          ]
        }
      ]
    },
    {
      "cell_type": "markdown",
      "source": [
        "## Technique 2: Semantic Similarity using Word2Vec and Clinical Sentence Transformer"
      ],
      "metadata": {
        "id": "UQq9CAtfDa0z"
      }
    },
    {
      "cell_type": "markdown",
      "source": [
        "## Word2Vec Google model"
      ],
      "metadata": {
        "id": "dlFpvOykD5FD"
      }
    },
    {
      "cell_type": "code",
      "source": [
        "# Load the model from Drive\n",
        "model = KeyedVectors.load(\"/content/drive/MyDrive/word2vec_google_news.model\")"
      ],
      "metadata": {
        "id": "H6mz4-r0Gy2V"
      },
      "execution_count": 16,
      "outputs": []
    },
    {
      "cell_type": "code",
      "source": [
        "import numpy as np\n",
        "from nltk.tokenize import word_tokenize"
      ],
      "metadata": {
        "id": "LXrsYhjK5Pfo"
      },
      "execution_count": 17,
      "outputs": []
    },
    {
      "cell_type": "code",
      "source": [
        "import nltk\n",
        "\n",
        "def get_sentence_vector(sentence, model):\n",
        "    words = word_tokenize(sentence.lower())\n",
        "    word_vectors = []\n",
        "\n",
        "    for word in words:\n",
        "        if word in model:\n",
        "            word_vectors.append(model[word])\n",
        "\n",
        "    if word_vectors:\n",
        "        return np.mean(word_vectors, axis=0)\n",
        "    else:\n",
        "        return np.zeros(300)  # Word2Vec vector size is 300"
      ],
      "metadata": {
        "id": "CvAJlCjZ5Pcf"
      },
      "execution_count": 18,
      "outputs": []
    },
    {
      "cell_type": "code",
      "source": [
        "high_risk_diag_codes = [\"A419\", \"I213\", \"J189\", \"I639\"] # Sepsis, AMI, Pneumonia, Stroke\n",
        "cm_subset = cm_df[cm_df['icd_code'].isin(high_risk_diag_codes)]\n",
        "\n",
        "diagnosis_desc = cm_subset[\"description\"].tolist()\n",
        "diagnosis_codes = cm_subset[\"icd_code\"].tolist()\n",
        "\n",
        "procedure_codes = pcs_df[\"icd_code\"].tolist()\n",
        "procedure_desc = pcs_df[\"description\"].tolist()"
      ],
      "metadata": {
        "id": "bJcxlr53icyS"
      },
      "execution_count": 19,
      "outputs": []
    },
    {
      "cell_type": "code",
      "source": [
        "diagnosis_subset = cm_df[cm_df['icd_code'].isin(['A419', 'I213', 'J189', 'I639'])].copy()\n",
        "procedure_subset = pcs_df.copy()\n",
        "\n",
        "diagnosis_subset.reset_index(drop=True, inplace=True)\n",
        "procedure_subset.reset_index(drop=True, inplace=True)\n",
        "\n",
        "print(\"Diagnoses:\\n\", diagnosis_subset.head())\n",
        "print(\"Procedures:\\n\", procedure_subset.head())"
      ],
      "metadata": {
        "colab": {
          "base_uri": "https://localhost:8080/"
        },
        "id": "XY8kVDwqmMhD",
        "outputId": "354e2725-5638-4416-b9a3-cd2433c8029a"
      },
      "execution_count": 20,
      "outputs": [
        {
          "output_type": "stream",
          "name": "stdout",
          "text": [
            "Diagnoses:\n",
            "   icd_code                                        description\n",
            "0     A419                       Sepsis, unspecified organism\n",
            "1     I213  ST elevation (STEMI) myocardial infarction of ...\n",
            "2     I639                   Cerebral infarction, unspecified\n",
            "3     J189                    Pneumonia, unspecified organism\n",
            "Procedures:\n",
            "   icd_code                                        description\n",
            "0  0016070  Bypass Cerebral Ventricle to Nasopharynx with ...\n",
            "1  0016071  Bypass Cerebral Ventricle to Mastoid Sinus wit...\n",
            "2  0016072  Bypass Cerebral Ventricle to Atrium with Autol...\n",
            "3  0016073  Bypass Cerebral Ventricle to Blood Vessel with...\n",
            "4  0016074  Bypass Cerebral Ventricle to Pleural Cavity wi...\n"
          ]
        }
      ]
    },
    {
      "cell_type": "code",
      "source": [
        "nltk.download('punkt_tab')\n",
        "\n",
        "for code, diag in zip(diagnosis_codes, diagnosis_desc):\n",
        "    diag_vec = get_sentence_vector(diag, model)\n",
        "    similarities = []\n",
        "\n",
        "    for proc_code, proc in zip(procedure_codes, procedure_desc):\n",
        "        proc_vec = get_sentence_vector(proc, model)\n",
        "        score = cosine_similarity([diag_vec], [proc_vec])[0][0]\n",
        "        similarities.append((proc_code, proc, score))\n",
        "\n",
        "    top_matches = sorted(similarities, key=lambda x: x[2], reverse=True)[:3]\n",
        "    print(f\"\\nTop 3 Procedure Matches for Diagnosis '{code}':\")\n",
        "    for match in top_matches:\n",
        "        print(f\"{match[0]}: {match[1]} (Score: {match[2]:.4f})\")"
      ],
      "metadata": {
        "colab": {
          "base_uri": "https://localhost:8080/"
        },
        "id": "JsD-SUnqicsz",
        "outputId": "8bce9618-a7a3-4199-b21e-7b119e0e7912"
      },
      "execution_count": 21,
      "outputs": [
        {
          "output_type": "stream",
          "name": "stderr",
          "text": [
            "[nltk_data] Downloading package punkt_tab to /root/nltk_data...\n",
            "[nltk_data]   Unzipping tokenizers/punkt_tab.zip.\n"
          ]
        },
        {
          "output_type": "stream",
          "name": "stdout",
          "text": [
            "\n",
            "Top 3 Procedure Matches for Diagnosis 'A419':\n",
            "XXEBXQ6: Measurement of Infection, Lower Respiratory Fluid Nucleic Acid-base Microbial Detection, New Technology Group 6 (Score: 0.5947)\n",
            "30243Y4: Transfusion of Allogeneic Unspecified Hematopoietic Stem Cells into Central Vein, Percutaneous Approach (Score: 0.5892)\n",
            "XXE5XN6: Measurement of Infection, Positive Blood Culture Fluorescence Hybridization for Organism Identification, Concentration and Susceptibility, New Technology Group 6 (Score: 0.5851)\n",
            "\n",
            "Top 3 Procedure Matches for Diagnosis 'I213':\n",
            "B446ZZ3: Ultrasonography of Right Renal Artery, Intravascular (Score: 0.6317)\n",
            "B447ZZ3: Ultrasonography of Left Renal Artery, Intravascular (Score: 0.6309)\n",
            "3E0J8U1: Introduction of Nonautologous Pancreatic Islet Cells into Biliary and Pancreatic Tract, Via Natural or Artificial Opening Endoscopic (Score: 0.6209)\n",
            "\n",
            "Top 3 Procedure Matches for Diagnosis 'I639':\n",
            "00163ZB: Bypass Cerebral Ventricle to Cerebral Cisterns, Percutaneous Approach (Score: 0.6172)\n",
            "00B60ZX: Excision of Cerebral Ventricle, Open Approach, Diagnostic (Score: 0.6148)\n",
            "00N63ZZ: Release Cerebral Ventricle, Percutaneous Approach (Score: 0.6140)\n",
            "\n",
            "Top 3 Procedure Matches for Diagnosis 'J189':\n",
            "XXEBXQ6: Measurement of Infection, Lower Respiratory Fluid Nucleic Acid-base Microbial Detection, New Technology Group 6 (Score: 0.5337)\n",
            "XXE5XN6: Measurement of Infection, Positive Blood Culture Fluorescence Hybridization for Organism Identification, Concentration and Susceptibility, New Technology Group 6 (Score: 0.5055)\n",
            "XXE97U7: Measurement of Infection, Nasopharyngeal Fluid SARS-CoV-2 Polymerase Chain Reaction, New Technology Group 7 (Score: 0.5021)\n"
          ]
        }
      ]
    },
    {
      "cell_type": "markdown",
      "source": [
        "## Model from Hugging Face"
      ],
      "metadata": {
        "id": "Vtp5M2E5D-QG"
      }
    },
    {
      "cell_type": "code",
      "source": [
        "from sentence_transformers import SentenceTransformer\n",
        "import pandas as pd\n",
        "\n",
        "\n",
        "model = SentenceTransformer(\"Shobhank-iiitdwd/Clinical_sentence_transformers_mpnet_base_v2\")"
      ],
      "metadata": {
        "colab": {
          "base_uri": "https://localhost:8080/",
          "height": 369,
          "referenced_widgets": [
            "fa9561c6856f4567a804080d2f6fc5ad",
            "a0848297a7024451b06bccfa10df8d51",
            "22b63b152f664411b03022e36ba24c87",
            "8a786ac73dbc44bfa7f33fa531e9bcc0",
            "36d36efa3cd5478293d530d293c6ca8f",
            "e86f13673fda437dbd13a71834888e14",
            "119e4d8892a043ef952cf5231f6ec7cc",
            "986c14bcd6574265ae72df82cc24addb",
            "6a08d07808a0473a82308e6ff200fe04",
            "d63c8389f92947b394fb2074d6eb91b8",
            "370224713f4e4f8884b55b5370964450",
            "61be855f76724e2ca016defbec886402",
            "ca45e7fd430347be93404e76845af3a3",
            "02a51ae0e3f0432ab594863cfd6fc448",
            "3362319b90d844269626f2468909ae48",
            "51e43a38df63424f860d4ed7eb963125",
            "60f079b0742b48cfa217f7e5949910dc",
            "cc150950866b464a9d13bb8d8afc79f7",
            "a219c096e5c94fd19849fcab2121e874",
            "4e2ea3032f3140c4b7f981bc7f322c38",
            "13aa9a31d2bf4c1cb4ccca6a8897ecb9",
            "62ad69406aee4e8880b4cf35a21ed637",
            "75f3e062f5474dd48d9748f5d2100b09",
            "9ac851105a1f4217b732e0d0442dd44d",
            "373dfd8f6df34ccbb60f14f3523d162e",
            "225a5468bff3475cbe2f5c901e816c8c",
            "f0039669210c4bc3888dd1404c89f840",
            "158848f05e184485966931f872f0f5d9",
            "8d8a2b85e6bd4e66abb4fc1a15c8ad5d",
            "0fea9258944b4433928e6ac4e4aae902",
            "5303dc0158014cd99caea6e49e3cda55",
            "957e5c9759c44dd08cc387490b9a5b35",
            "88041c0fe5744c13af2c840bd95b4642",
            "4aadc6ee890a4c0caf95887da17e3e69",
            "b11ba1bfcf324de496ab5193994027ae",
            "188cca233b6b46be833c05cd19af9946",
            "cbabaa7926cf4855830d0408fda30a0a",
            "80117e534ec649a493a566344b15d1d1",
            "b6bfb8e3066248d28bcb1f99f90667cd",
            "3947d21e63414ce5ad2290527a931f02",
            "f50d555ed33e44acbf9733970a04d63d",
            "7b16de1f6b41430aaabb7fbf42544602",
            "59980732a3e84a3f875a4a08b4b626a9",
            "8ed1726d2de34a78b257dd81444a319b",
            "93d6c6a4eba3452a8a2e9c6c5e68fa30",
            "d12466f3200347b4b843ed52e8c0dc28",
            "ee26b68ccffe4ffc968f29787a466f1d",
            "9cd655165e464c638ad26e24d6071e7e",
            "9bd7b9353606429d83a379d3835f7e81",
            "42ac7b89eb8a446bacbc057b223231f9",
            "693c1470e4744293b0796693591a72be",
            "94f9241d477547ae99c20a2868210c6d",
            "2e316c47f46b4122a213f144c5783197",
            "1031c5acbbb44fdd9da1f4712c138d83",
            "7cb8705e6e1c4f8dbdff497a323b872c",
            "31c322ed50864f63b744cf17002d51b0",
            "c7ebaafe200b4ea295c8afedf947ff88",
            "377ddfe8097347cb849be047e8f98c25",
            "62f5c0d0213a4496b05a15b8a9c8e9a0",
            "47212a3b495b4a9087c056dd2ade9e68",
            "d5b6a0cc3bbe49f789f3496b0a853a59",
            "6fabda82f32c47c3812e21a87791659f",
            "6b5c2bba6b1b45ba8ba5279082f24b65",
            "cb35142733fe4c5fbd4991b78385d942",
            "b0d5cbd354194538aec928a6742224f8",
            "b06b5112e2ed4c9bb6b133a520c65283",
            "c0299704f66343b8b2a7876da74f4f04",
            "7d23cdfde1b243858dc3c1a7286e8525",
            "8ba0121bdd604bf69a5bb62de846b597",
            "eb9586a5a80f4b9aacb4b65d34a0e126",
            "8683e891ed3640ffb8d36031f9ff2e4f",
            "70b58fb86f4d460db239df4e97006048",
            "3d740b3f6c764f038753edff4d00af80",
            "0b76198dc1ae46629d6511dcccdfbe7b",
            "c74963291042483eb127ab2ac820c2ba",
            "9eb827549bb7436daf045668394d87ac",
            "afbce76114c1490e87bebcc5cd0a9c9e",
            "a8955264ded9483e910bb3839f396a7f",
            "a00358a8abeb4d1c87d76f6731cda6b2",
            "ce2f7be0219b4faa946038b5f1859910",
            "ea1d6dbdfc194886bfd3d8e5e7140baa",
            "14c44191fa654bdea12c0f8bb81ce805",
            "f338daed2f7c4829b7d99989080c7795",
            "80dc45a83fc645369a1699f8d5c1bae7",
            "487c058ccb404e56bf6aee846bfe5746",
            "0b7c08bd39d24c4a84d7db890bb6f025",
            "d5489772a2d6485e957ef666dc7f92b3",
            "8910b38f12b842d680138fbb4e91f147",
            "50b80d8304df43fdba5d406e811d8622",
            "6b8709b727554dd294d88a8865836aae",
            "1a0b75da545745e1ab584e70b12324c9",
            "fc9c5d43fd074fc9adcbf7525d977f04",
            "4aec9f57934143d8be0ba62d8f6e2294",
            "bbc063948a434714802d8824215b4ec5",
            "31a691ea4d3f4bcfaa2a4302cf5fd728",
            "7edeebf6fa4d4ddca1235353d4155c9c",
            "3854dcdc9c9f4caf9e79fa2717b7f80f",
            "b3e0043d91dc4f7eb14ac334d6a97c7c",
            "ed4886bb61c444d3a00c4ed80c7fea79",
            "ae02d31088ae4d8494796a538186609b",
            "efa8d3dfad544850b9abbb5a00941f61",
            "71d8ce95e9d64376871622e993f2f145",
            "04faa0ec99184bef88edb175f5fba3c3",
            "8658483519214491a3bb1556bc8b8e23",
            "f6e01e41d2f545ddb361d3c4ceeb2d6c",
            "9ea662f8dae3460fa967fc2a0e2f0d32",
            "d8b4b76fe2a24442b04f7e150265f2c8",
            "7c8dc739cba4456d84f26454d7158e46",
            "cbdde11e70c043aba3c948e7d038ddcb",
            "346f809374a44ba5adbca02100ffd3e2",
            "8f867f31eff247f2a2026dc3a9f6829b",
            "fce01942639b4920b70e5feb2c31ee4b",
            "b9b4b633b49544959e45e6f2edac6515",
            "49282ce6a80f404eaf40d803161442ad",
            "40379c1135164b50aa4beb575ed74ea2",
            "dfdf333e871b403cb5b7737120e98da4",
            "d6d1efd69e274ebdaea2d4ee56f42680",
            "301acf2c90ec476bb3c2a89cfb37bc1f",
            "6689e6d09c2a41609c3c6f6af9ed9383",
            "6bdeafbf66b8495297d61aace1f3830f",
            "31b3694af98446698e8be9ca245350b4"
          ]
        },
        "id": "iRYOIh-2mMnb",
        "outputId": "a7a53d7c-bbaa-4051-d8c7-c1e54cb2556d"
      },
      "execution_count": 34,
      "outputs": [
        {
          "output_type": "display_data",
          "data": {
            "text/plain": [
              "modules.json:   0%|          | 0.00/349 [00:00<?, ?B/s]"
            ],
            "application/vnd.jupyter.widget-view+json": {
              "version_major": 2,
              "version_minor": 0,
              "model_id": "fa9561c6856f4567a804080d2f6fc5ad"
            }
          },
          "metadata": {}
        },
        {
          "output_type": "display_data",
          "data": {
            "text/plain": [
              "config_sentence_transformers.json:   0%|          | 0.00/195 [00:00<?, ?B/s]"
            ],
            "application/vnd.jupyter.widget-view+json": {
              "version_major": 2,
              "version_minor": 0,
              "model_id": "61be855f76724e2ca016defbec886402"
            }
          },
          "metadata": {}
        },
        {
          "output_type": "display_data",
          "data": {
            "text/plain": [
              "README.md:   0%|          | 0.00/14.9k [00:00<?, ?B/s]"
            ],
            "application/vnd.jupyter.widget-view+json": {
              "version_major": 2,
              "version_minor": 0,
              "model_id": "75f3e062f5474dd48d9748f5d2100b09"
            }
          },
          "metadata": {}
        },
        {
          "output_type": "display_data",
          "data": {
            "text/plain": [
              "sentence_bert_config.json:   0%|          | 0.00/53.0 [00:00<?, ?B/s]"
            ],
            "application/vnd.jupyter.widget-view+json": {
              "version_major": 2,
              "version_minor": 0,
              "model_id": "4aadc6ee890a4c0caf95887da17e3e69"
            }
          },
          "metadata": {}
        },
        {
          "output_type": "display_data",
          "data": {
            "text/plain": [
              "config.json:   0%|          | 0.00/620 [00:00<?, ?B/s]"
            ],
            "application/vnd.jupyter.widget-view+json": {
              "version_major": 2,
              "version_minor": 0,
              "model_id": "93d6c6a4eba3452a8a2e9c6c5e68fa30"
            }
          },
          "metadata": {}
        },
        {
          "output_type": "display_data",
          "data": {
            "text/plain": [
              "model.safetensors:   0%|          | 0.00/438M [00:00<?, ?B/s]"
            ],
            "application/vnd.jupyter.widget-view+json": {
              "version_major": 2,
              "version_minor": 0,
              "model_id": "31c322ed50864f63b744cf17002d51b0"
            }
          },
          "metadata": {}
        },
        {
          "output_type": "display_data",
          "data": {
            "text/plain": [
              "tokenizer_config.json:   0%|          | 0.00/1.58k [00:00<?, ?B/s]"
            ],
            "application/vnd.jupyter.widget-view+json": {
              "version_major": 2,
              "version_minor": 0,
              "model_id": "c0299704f66343b8b2a7876da74f4f04"
            }
          },
          "metadata": {}
        },
        {
          "output_type": "display_data",
          "data": {
            "text/plain": [
              "vocab.txt:   0%|          | 0.00/232k [00:00<?, ?B/s]"
            ],
            "application/vnd.jupyter.widget-view+json": {
              "version_major": 2,
              "version_minor": 0,
              "model_id": "a8955264ded9483e910bb3839f396a7f"
            }
          },
          "metadata": {}
        },
        {
          "output_type": "display_data",
          "data": {
            "text/plain": [
              "tokenizer.json:   0%|          | 0.00/711k [00:00<?, ?B/s]"
            ],
            "application/vnd.jupyter.widget-view+json": {
              "version_major": 2,
              "version_minor": 0,
              "model_id": "50b80d8304df43fdba5d406e811d8622"
            }
          },
          "metadata": {}
        },
        {
          "output_type": "display_data",
          "data": {
            "text/plain": [
              "special_tokens_map.json:   0%|          | 0.00/964 [00:00<?, ?B/s]"
            ],
            "application/vnd.jupyter.widget-view+json": {
              "version_major": 2,
              "version_minor": 0,
              "model_id": "ae02d31088ae4d8494796a538186609b"
            }
          },
          "metadata": {}
        },
        {
          "output_type": "display_data",
          "data": {
            "text/plain": [
              "config.json:   0%|          | 0.00/296 [00:00<?, ?B/s]"
            ],
            "application/vnd.jupyter.widget-view+json": {
              "version_major": 2,
              "version_minor": 0,
              "model_id": "8f867f31eff247f2a2026dc3a9f6829b"
            }
          },
          "metadata": {}
        }
      ]
    },
    {
      "cell_type": "code",
      "source": [
        "sample_sentences = [\"Sepsis diagnosis\", \"Blood infection treatment procedure\"]\n",
        "embeddings = model.encode(sample_sentences)\n",
        "print(\"Embedding shape:\", embeddings.shape)"
      ],
      "metadata": {
        "colab": {
          "base_uri": "https://localhost:8080/"
        },
        "id": "UpDmdL3amMkc",
        "outputId": "de468e5e-634e-42d5-b11a-de82d2760922"
      },
      "execution_count": 35,
      "outputs": [
        {
          "output_type": "stream",
          "name": "stdout",
          "text": [
            "Embedding shape: (2, 768)\n"
          ]
        }
      ]
    },
    {
      "cell_type": "code",
      "source": [
        "# Step 1: Keep diagnosis embeddings as-is (small in size)\n",
        "diagnosis_embeddings = model.encode(diagnosis_subset['description'].tolist())\n",
        "\n",
        "# Step 2: Sample 500 procedure descriptions and embed them\n",
        "sampled_procs = pcs_df.sample(n=500, random_state=42).reset_index(drop=True)\n",
        "procedure_desc = sampled_procs['description'].tolist()\n",
        "procedure_codes = sampled_procs['icd_code'].tolist()\n",
        "\n",
        "procedure_embeddings = model.encode(procedure_desc)\n",
        "print(\"Sampled Procedure Embeddings shape:\", procedure_embeddings.shape)\n",
        "\n",
        "# Compare using cosine similarity\n",
        "from sklearn.metrics.pairwise import cosine_similarity\n",
        "\n",
        "for idx, (diag_code, diag_desc) in diagnosis_subset.iterrows():\n",
        "    diag_embedding = diagnosis_embeddings[idx].reshape(1, -1)\n",
        "\n",
        "    scores = cosine_similarity(diag_embedding, procedure_embeddings)[0]\n",
        "    top_indices = np.argsort(scores)[-3:][::-1]  # Top 3 indices\n",
        "\n",
        "    print(f\"\\nTop 3 Procedure Matches for Diagnosis '{diag_code}':\")\n",
        "    for i in top_indices:\n",
        "        print(f\"{procedure_codes[i]}: {procedure_desc[i]} (Score: {scores[i]:.4f})\")"
      ],
      "metadata": {
        "colab": {
          "base_uri": "https://localhost:8080/"
        },
        "id": "_QMaH-18yKmV",
        "outputId": "62559d37-85e0-458d-d84c-cb3587aa8c64"
      },
      "execution_count": 36,
      "outputs": [
        {
          "output_type": "stream",
          "name": "stdout",
          "text": [
            "Sampled Procedure Embeddings shape: (500, 768)\n",
            "\n",
            "Top 3 Procedure Matches for Diagnosis 'A419':\n",
            "047F47Z: Dilation of Left Internal Iliac Artery with Four or More Drug-eluting Intraluminal Devices, Percutaneous Endoscopic Approach (Score: 0.9180)\n",
            "0GT34ZZ: Resection of Right Adrenal Gland, Percutaneous Endoscopic Approach (Score: 0.9180)\n",
            "015C4ZZ: Destruction of Pudendal Nerve, Percutaneous Endoscopic Approach (Score: 0.9155)\n",
            "\n",
            "Top 3 Procedure Matches for Diagnosis 'I213':\n",
            "B41B1ZZ: Fluoroscopy of Other Intra-Abdominal Arteries using Low Osmolar Contrast (Score: 0.9449)\n",
            "02PA3JZ: Removal of Synthetic Substitute from Heart, Percutaneous Approach (Score: 0.9410)\n",
            "02L70DK: Occlusion of Left Atrial Appendage with Intraluminal Device, Open Approach (Score: 0.9341)\n",
            "\n",
            "Top 3 Procedure Matches for Diagnosis 'I639':\n",
            "0GT34ZZ: Resection of Right Adrenal Gland, Percutaneous Endoscopic Approach (Score: 0.8640)\n",
            "015C4ZZ: Destruction of Pudendal Nerve, Percutaneous Endoscopic Approach (Score: 0.8615)\n",
            "047F47Z: Dilation of Left Internal Iliac Artery with Four or More Drug-eluting Intraluminal Devices, Percutaneous Endoscopic Approach (Score: 0.8569)\n",
            "\n",
            "Top 3 Procedure Matches for Diagnosis 'J189':\n",
            "B50Q1ZZ: Plain Radiography of Right Pulmonary Vein using Low Osmolar Contrast (Score: 0.8666)\n",
            "B417ZZZ: Fluoroscopy of Left Renal Artery (Score: 0.8651)\n",
            "CW2MFZZ: Tomographic (Tomo) Nuclear Medicine Imaging of Upper Extremity using Iodine 123 (I-123) (Score: 0.8617)\n"
          ]
        }
      ]
    },
    {
      "cell_type": "markdown",
      "source": [
        "## Visualization 3: Semantic Similarity Heatmap"
      ],
      "metadata": {
        "id": "bBH8U6MeX9yP"
      }
    },
    {
      "cell_type": "code",
      "source": [
        "import matplotlib.pyplot as plt\n",
        "import seaborn as sns\n",
        "import numpy as np\n",
        "import pandas as pd\n",
        "\n",
        "# Sample similarity scores from Technique 2\n",
        "similarity_data = {\n",
        "    'Diagnosis': ['Sepsis', 'AMI', 'Pneumonia', 'Stroke'],\n",
        "    'Procedure 1': [0.9180, 0.9449, 0.8640, 0.8666],\n",
        "    'Procedure 2': [0.9180, 0.9410, 0.8615, 0.8651],\n",
        "    'Procedure 3': [0.9155, 0.9341, 0.8569, 0.8617]\n",
        "}\n",
        "\n",
        "similarity_df = pd.DataFrame(similarity_data)\n",
        "similarity_df.set_index('Diagnosis', inplace=True)\n",
        "\n",
        "# Plot heatmap\n",
        "plt.figure(figsize=(10, 6))\n",
        "sns.heatmap(similarity_df, annot=True, cmap=\"YlGnBu\", fmt=\".4f\", linewidths=.5)\n",
        "plt.title(\"Semantic Similarity Heatmap (ClinicalSentenceTransformer + Cosine)\")\n",
        "plt.ylabel(\"Diagnosis ICD-10-CM Codes\")\n",
        "plt.xlabel(\"Top 3 Procedure Matches\")\n",
        "plt.tight_layout()\n",
        "plt.show()"
      ],
      "metadata": {
        "id": "1l7llTQ7X-Re",
        "colab": {
          "base_uri": "https://localhost:8080/",
          "height": 607
        },
        "outputId": "2f9db012-89d5-476f-fc04-d99af8442986"
      },
      "execution_count": 39,
      "outputs": [
        {
          "output_type": "display_data",
          "data": {
            "text/plain": [
              "<Figure size 1000x600 with 2 Axes>"
            ],
            "image/png": "[encoded data removed]"
          },
          "metadata": {}
        }
      ]
    },
    {
      "cell_type": "markdown",
      "source": [
        "## Technique 3: Named Entity Recognition (NER) using SciSpaCy"
      ],
      "metadata": {
        "id": "FANawYgIEYis"
      }
    },
    {
      "cell_type": "code",
      "source": [
        "%%capture\n",
        "# Install scispacy\n",
        "!pip install scispacy\n",
        "!pip install https://s3-us-west-2.amazonaws.com/ai2-s2-scispacy/releases/v0.5.3/en_core_sci_md-0.5.3.tar.gz"
      ],
      "metadata": {
        "id": "aBksbmtQyKjF"
      },
      "execution_count": 26,
      "outputs": []
    },
    {
      "cell_type": "code",
      "source": [
        "import spacy\n",
        "import scispacy\n",
        "from sklearn.model_selection import train_test_split\n",
        "\n",
        "# Load ICD-10-CM descriptions\n",
        "icd_cm_df = cm_df.dropna().reset_index(drop=True)  # Drop any rows with missing descriptions\n",
        "\n",
        "# Train/Test split\n",
        "train_df, test_df = train_test_split(icd_cm_df, test_size=0.3, random_state=42)\n",
        "\n",
        "# Load SciSpaCy model\n",
        "nlp = spacy.load(\"en_core_sci_md\")"
      ],
      "metadata": {
        "colab": {
          "base_uri": "https://localhost:8080/"
        },
        "id": "TC1J0D2OyKf9",
        "outputId": "8eba4912-8d13-49d2-bdd9-c8b342632de3"
      },
      "execution_count": 27,
      "outputs": [
        {
          "output_type": "stream",
          "name": "stderr",
          "text": [
            "/usr/local/lib/python3.11/dist-packages/spacy/language.py:2141: FutureWarning: Possible set union at position 6328\n",
            "  deserializers[\"tokenizer\"] = lambda p: self.tokenizer.from_disk(  # type: ignore[union-attr]\n"
          ]
        }
      ]
    },
    {
      "cell_type": "code",
      "source": [
        "# Apply NER to a sample of 10 diagnosis descriptions from the test set\n",
        "sample_descriptions = test_df['description'].sample(n=10, random_state=42).tolist()\n",
        "\n",
        "for i, desc in enumerate(sample_descriptions, 1):\n",
        "    doc = nlp(desc)\n",
        "    entities = [(ent.text, ent.label_) for ent in doc.ents]\n",
        "    print(f\"\\n{i}. Description: {desc}\")\n",
        "    print(\"   Named Entities:\", entities if entities else \"None\")"
      ],
      "metadata": {
        "colab": {
          "base_uri": "https://localhost:8080/"
        },
        "id": "70z0I9LlyKc1",
        "outputId": "8f87636f-9b6c-4bd7-a351-38357531397e"
      },
      "execution_count": 28,
      "outputs": [
        {
          "output_type": "stream",
          "name": "stdout",
          "text": [
            "\n",
            "1. Description: Poisoning by antimycobacterial drugs, undetermined, subsequent encounter\n",
            "   Named Entities: [('Poisoning', 'ENTITY'), ('antimycobacterial drugs', 'ENTITY')]\n",
            "\n",
            "2. Description: Non-pressure chronic ulcer of other part of unspecified foot with fat layer exposed\n",
            "   Named Entities: [('Non-pressure', 'ENTITY'), ('chronic ulcer', 'ENTITY'), ('unspecified', 'ENTITY'), ('foot with', 'ENTITY'), ('fat layer', 'ENTITY')]\n",
            "\n",
            "3. Description: Flat anterior chamber hypotony of unspecified eye\n",
            "   Named Entities: [('Flat anterior chamber hypotony', 'ENTITY')]\n",
            "\n",
            "4. Description: Other extraarticular fracture of lower end of left radius, subsequent encounter for open fracture type I or II with routine healing\n",
            "   Named Entities: [('extraarticular fracture', 'ENTITY'), ('left radius', 'ENTITY'), ('open fracture type I', 'ENTITY'), ('II', 'ENTITY'), ('routine healing', 'ENTITY')]\n",
            "\n",
            "5. Description: Nondisplaced comminuted fracture of shaft of unspecified tibia, subsequent encounter for open fracture type I or II with delayed healing\n",
            "   Named Entities: [('Nondisplaced comminuted fracture', 'ENTITY'), ('shaft', 'ENTITY'), ('unspecified tibia', 'ENTITY'), ('open fracture type I', 'ENTITY'), ('II', 'ENTITY'), ('delayed healing', 'ENTITY')]\n",
            "\n",
            "6. Description: Other infective bursitis, right knee\n",
            "   Named Entities: [('infective bursitis', 'ENTITY'), ('right knee', 'ENTITY')]\n",
            "\n",
            "7. Description: Sepsis of newborn due to streptococcus, group B\n",
            "   Named Entities: [('Sepsis', 'ENTITY'), ('newborn', 'ENTITY'), ('streptococcus', 'ENTITY'), ('group B', 'ENTITY')]\n",
            "\n",
            "8. Description: Displaced Maisonneuve's fracture of right leg, subsequent encounter for open fracture type IIIA, IIIB, or IIIC with routine healing\n",
            "   Named Entities: [(\"Displaced Maisonneuve's fracture\", 'ENTITY'), ('right leg', 'ENTITY'), ('open fracture type IIIA', 'ENTITY'), ('IIIB', 'ENTITY'), ('IIIC', 'ENTITY'), ('routine', 'ENTITY'), ('healing', 'ENTITY')]\n",
            "\n",
            "9. Description: Nondisplaced supracondylar fracture without intracondylar extension of lower end of right femur, subsequent encounter for closed fracture with routine healing\n",
            "   Named Entities: [('Nondisplaced supracondylar fracture', 'ENTITY'), ('intracondylar', 'ENTITY'), ('extension', 'ENTITY'), ('right femur', 'ENTITY'), ('closed fracture', 'ENTITY'), ('routine healing', 'ENTITY')]\n",
            "\n",
            "10. Description: Driver injured in collision with unspecified motor vehicles in nontraffic accident, subsequent encounter\n",
            "   Named Entities: [('Driver', 'ENTITY'), ('injured', 'ENTITY'), ('collision', 'ENTITY'), ('motor vehicles', 'ENTITY'), ('nontraffic accident', 'ENTITY')]\n"
          ]
        }
      ]
    },
    {
      "cell_type": "markdown",
      "source": [
        "## Technique 4: Bigram Frequency Analysis (N-gram)"
      ],
      "metadata": {
        "id": "n92lgGhEEbzt"
      }
    },
    {
      "cell_type": "code",
      "source": [
        "from sklearn.feature_extraction.text import CountVectorizer\n",
        "import pandas as pd"
      ],
      "metadata": {
        "id": "xFJX5RCQyKaF"
      },
      "execution_count": 29,
      "outputs": []
    },
    {
      "cell_type": "code",
      "source": [
        "# Drop NaN and reset index\n",
        "cm_cleaned = cm_df.dropna().reset_index(drop=True)\n",
        "\n",
        "# Use only the description column\n",
        "text_data = cm_cleaned['description'].tolist()"
      ],
      "metadata": {
        "id": "IJXhqxchyKPd"
      },
      "execution_count": 30,
      "outputs": []
    },
    {
      "cell_type": "code",
      "source": [
        "vectorizer = CountVectorizer(ngram_range=(2, 2), stop_words='english')\n",
        "X = vectorizer.fit_transform(text_data)\n",
        "\n",
        "# Sum up the counts of each bigram\n",
        "sum_words = X.sum(axis=0)\n",
        "bigram_freq = [(word, sum_words[0, idx]) for word, idx in vectorizer.vocabulary_.items()]\n",
        "bigram_freq = sorted(bigram_freq, key=lambda x: x[1], reverse=True)"
      ],
      "metadata": {
        "id": "pkrGknv6v3st"
      },
      "execution_count": 31,
      "outputs": []
    },
    {
      "cell_type": "code",
      "source": [
        "print(\"Top 10 Bigrams in ICD-10-CM Descriptions:\\n\")\n",
        "for phrase, freq in bigram_freq[:10]:\n",
        "    print(f\"{phrase}: {freq}\")"
      ],
      "metadata": {
        "colab": {
          "base_uri": "https://localhost:8080/"
        },
        "id": "GM4hVLCvv3ot",
        "outputId": "cf33211f-ba96-40eb-d8f4-9c610be7a068"
      },
      "execution_count": 32,
      "outputs": [
        {
          "output_type": "stream",
          "name": "stdout",
          "text": [
            "Top 10 Bigrams in ICD-10-CM Descriptions:\n",
            "\n",
            "subsequent encounter: 22121\n",
            "initial encounter: 14503\n",
            "encounter open: 6162\n",
            "open fracture: 6162\n",
            "encounter fracture: 5853\n",
            "fracture type: 5100\n",
            "encounter closed: 3831\n",
            "closed fracture: 3831\n",
            "fracture shaft: 3410\n",
            "routine healing: 3033\n"
          ]
        }
      ]
    },
    {
      "cell_type": "markdown",
      "source": [
        "## Visualization 4: Bigrams Horizontal Bar Graph"
      ],
      "metadata": {
        "id": "_RYu2F1wZzz2"
      }
    },
    {
      "cell_type": "code",
      "source": [
        "import matplotlib.pyplot as plt\n",
        "import pandas as pd\n",
        "\n",
        "# Reuse your top 10 bigrams and counts\n",
        "top_bigrams = bigram_freq[:10]\n",
        "bigram_df = pd.DataFrame(top_bigrams, columns=[\"bigram\", \"count\"])\n",
        "bigram_df = bigram_df.sort_values(by=\"count\", ascending=True)\n",
        "\n",
        "# Plot horizontal bar chart\n",
        "plt.figure(figsize=(10, 6))\n",
        "bars = plt.barh(bigram_df[\"bigram\"], bigram_df[\"count\"], color=\"lightseagreen\")\n",
        "\n",
        "# Add count labels to the bars\n",
        "for bar in bars:\n",
        "    width = bar.get_width()\n",
        "    plt.text(width + 100, bar.get_y() + bar.get_height()/2,\n",
        "             f'{int(width)}', va='center')\n",
        "\n",
        "plt.xlabel(\"Frequency\")\n",
        "plt.title(\"Top 10 ICD-10-CM Bigrams in Descriptions\")\n",
        "plt.tight_layout()\n",
        "plt.show()"
      ],
      "metadata": {
        "colab": {
          "base_uri": "https://localhost:8080/",
          "height": 607
        },
        "id": "lJ2rHtgxNapv",
        "outputId": "f17a81c3-5e55-44ad-ea71-a796898a1470"
      },
      "execution_count": 33,
      "outputs": [
        {
          "output_type": "display_data",
          "data": {
            "text/plain": [
              "<Figure size 1000x600 with 1 Axes>"
            ],
            "image/png": "[encoded data removed]"
          },
          "metadata": {}
        }
      ]
    }
  ]
}